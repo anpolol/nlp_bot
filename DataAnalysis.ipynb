{
 "cells": [
  {
   "cell_type": "code",
   "execution_count": 1,
   "metadata": {
    "collapsed": true,
    "ExecuteTime": {
     "end_time": "2023-05-02T16:21:24.119895700Z",
     "start_time": "2023-05-02T16:21:23.859149200Z"
    }
   },
   "outputs": [],
   "source": [
    "import pandas as pd\n",
    "import numpy as np"
   ]
  },
  {
   "cell_type": "markdown",
   "source": [
    "### файл с данными data_history собран из диалогов\n",
    "по ссылке\n",
    "\n",
    "В файле data_history я добавила цепочки диалогов в каждый объект данных постепенно.\n",
    "\n"
   ],
   "metadata": {
    "collapsed": false
   }
  },
  {
   "cell_type": "code",
   "execution_count": 2,
   "outputs": [
    {
     "ename": "FileNotFoundError",
     "evalue": "[Errno 2] No such file or directory: 'data_history.csv'",
     "output_type": "error",
     "traceback": [
      "\u001B[1;31m---------------------------------------------------------------------------\u001B[0m",
      "\u001B[1;31mFileNotFoundError\u001B[0m                         Traceback (most recent call last)",
      "Cell \u001B[1;32mIn[2], line 1\u001B[0m\n\u001B[1;32m----> 1\u001B[0m df_lbl \u001B[38;5;241m=\u001B[39m \u001B[43mpd\u001B[49m\u001B[38;5;241;43m.\u001B[39;49m\u001B[43mread_csv\u001B[49m\u001B[43m(\u001B[49m\u001B[38;5;124;43m'\u001B[39;49m\u001B[38;5;124;43mdata_history.csv\u001B[39;49m\u001B[38;5;124;43m'\u001B[39;49m\u001B[43m)\u001B[49m\n\u001B[0;32m      2\u001B[0m df_lbl\u001B[38;5;241m=\u001B[39mdf_lbl\u001B[38;5;241m.\u001B[39mdrop(columns\u001B[38;5;241m=\u001B[39m[\u001B[38;5;124m'\u001B[39m\u001B[38;5;124mUnnamed: 0\u001B[39m\u001B[38;5;124m'\u001B[39m])\n",
      "File \u001B[1;32m~\\Desktop\\nlp_bot\\venv\\lib\\site-packages\\pandas\\io\\parsers\\readers.py:912\u001B[0m, in \u001B[0;36mread_csv\u001B[1;34m(filepath_or_buffer, sep, delimiter, header, names, index_col, usecols, dtype, engine, converters, true_values, false_values, skipinitialspace, skiprows, skipfooter, nrows, na_values, keep_default_na, na_filter, verbose, skip_blank_lines, parse_dates, infer_datetime_format, keep_date_col, date_parser, date_format, dayfirst, cache_dates, iterator, chunksize, compression, thousands, decimal, lineterminator, quotechar, quoting, doublequote, escapechar, comment, encoding, encoding_errors, dialect, on_bad_lines, delim_whitespace, low_memory, memory_map, float_precision, storage_options, dtype_backend)\u001B[0m\n\u001B[0;32m    899\u001B[0m kwds_defaults \u001B[38;5;241m=\u001B[39m _refine_defaults_read(\n\u001B[0;32m    900\u001B[0m     dialect,\n\u001B[0;32m    901\u001B[0m     delimiter,\n\u001B[1;32m   (...)\u001B[0m\n\u001B[0;32m    908\u001B[0m     dtype_backend\u001B[38;5;241m=\u001B[39mdtype_backend,\n\u001B[0;32m    909\u001B[0m )\n\u001B[0;32m    910\u001B[0m kwds\u001B[38;5;241m.\u001B[39mupdate(kwds_defaults)\n\u001B[1;32m--> 912\u001B[0m \u001B[38;5;28;01mreturn\u001B[39;00m \u001B[43m_read\u001B[49m\u001B[43m(\u001B[49m\u001B[43mfilepath_or_buffer\u001B[49m\u001B[43m,\u001B[49m\u001B[43m \u001B[49m\u001B[43mkwds\u001B[49m\u001B[43m)\u001B[49m\n",
      "File \u001B[1;32m~\\Desktop\\nlp_bot\\venv\\lib\\site-packages\\pandas\\io\\parsers\\readers.py:577\u001B[0m, in \u001B[0;36m_read\u001B[1;34m(filepath_or_buffer, kwds)\u001B[0m\n\u001B[0;32m    574\u001B[0m _validate_names(kwds\u001B[38;5;241m.\u001B[39mget(\u001B[38;5;124m\"\u001B[39m\u001B[38;5;124mnames\u001B[39m\u001B[38;5;124m\"\u001B[39m, \u001B[38;5;28;01mNone\u001B[39;00m))\n\u001B[0;32m    576\u001B[0m \u001B[38;5;66;03m# Create the parser.\u001B[39;00m\n\u001B[1;32m--> 577\u001B[0m parser \u001B[38;5;241m=\u001B[39m TextFileReader(filepath_or_buffer, \u001B[38;5;241m*\u001B[39m\u001B[38;5;241m*\u001B[39mkwds)\n\u001B[0;32m    579\u001B[0m \u001B[38;5;28;01mif\u001B[39;00m chunksize \u001B[38;5;129;01mor\u001B[39;00m iterator:\n\u001B[0;32m    580\u001B[0m     \u001B[38;5;28;01mreturn\u001B[39;00m parser\n",
      "File \u001B[1;32m~\\Desktop\\nlp_bot\\venv\\lib\\site-packages\\pandas\\io\\parsers\\readers.py:1407\u001B[0m, in \u001B[0;36mTextFileReader.__init__\u001B[1;34m(self, f, engine, **kwds)\u001B[0m\n\u001B[0;32m   1404\u001B[0m     \u001B[38;5;28mself\u001B[39m\u001B[38;5;241m.\u001B[39moptions[\u001B[38;5;124m\"\u001B[39m\u001B[38;5;124mhas_index_names\u001B[39m\u001B[38;5;124m\"\u001B[39m] \u001B[38;5;241m=\u001B[39m kwds[\u001B[38;5;124m\"\u001B[39m\u001B[38;5;124mhas_index_names\u001B[39m\u001B[38;5;124m\"\u001B[39m]\n\u001B[0;32m   1406\u001B[0m \u001B[38;5;28mself\u001B[39m\u001B[38;5;241m.\u001B[39mhandles: IOHandles \u001B[38;5;241m|\u001B[39m \u001B[38;5;28;01mNone\u001B[39;00m \u001B[38;5;241m=\u001B[39m \u001B[38;5;28;01mNone\u001B[39;00m\n\u001B[1;32m-> 1407\u001B[0m \u001B[38;5;28mself\u001B[39m\u001B[38;5;241m.\u001B[39m_engine \u001B[38;5;241m=\u001B[39m \u001B[38;5;28;43mself\u001B[39;49m\u001B[38;5;241;43m.\u001B[39;49m\u001B[43m_make_engine\u001B[49m\u001B[43m(\u001B[49m\u001B[43mf\u001B[49m\u001B[43m,\u001B[49m\u001B[43m \u001B[49m\u001B[38;5;28;43mself\u001B[39;49m\u001B[38;5;241;43m.\u001B[39;49m\u001B[43mengine\u001B[49m\u001B[43m)\u001B[49m\n",
      "File \u001B[1;32m~\\Desktop\\nlp_bot\\venv\\lib\\site-packages\\pandas\\io\\parsers\\readers.py:1661\u001B[0m, in \u001B[0;36mTextFileReader._make_engine\u001B[1;34m(self, f, engine)\u001B[0m\n\u001B[0;32m   1659\u001B[0m     \u001B[38;5;28;01mif\u001B[39;00m \u001B[38;5;124m\"\u001B[39m\u001B[38;5;124mb\u001B[39m\u001B[38;5;124m\"\u001B[39m \u001B[38;5;129;01mnot\u001B[39;00m \u001B[38;5;129;01min\u001B[39;00m mode:\n\u001B[0;32m   1660\u001B[0m         mode \u001B[38;5;241m+\u001B[39m\u001B[38;5;241m=\u001B[39m \u001B[38;5;124m\"\u001B[39m\u001B[38;5;124mb\u001B[39m\u001B[38;5;124m\"\u001B[39m\n\u001B[1;32m-> 1661\u001B[0m \u001B[38;5;28mself\u001B[39m\u001B[38;5;241m.\u001B[39mhandles \u001B[38;5;241m=\u001B[39m \u001B[43mget_handle\u001B[49m\u001B[43m(\u001B[49m\n\u001B[0;32m   1662\u001B[0m \u001B[43m    \u001B[49m\u001B[43mf\u001B[49m\u001B[43m,\u001B[49m\n\u001B[0;32m   1663\u001B[0m \u001B[43m    \u001B[49m\u001B[43mmode\u001B[49m\u001B[43m,\u001B[49m\n\u001B[0;32m   1664\u001B[0m \u001B[43m    \u001B[49m\u001B[43mencoding\u001B[49m\u001B[38;5;241;43m=\u001B[39;49m\u001B[38;5;28;43mself\u001B[39;49m\u001B[38;5;241;43m.\u001B[39;49m\u001B[43moptions\u001B[49m\u001B[38;5;241;43m.\u001B[39;49m\u001B[43mget\u001B[49m\u001B[43m(\u001B[49m\u001B[38;5;124;43m\"\u001B[39;49m\u001B[38;5;124;43mencoding\u001B[39;49m\u001B[38;5;124;43m\"\u001B[39;49m\u001B[43m,\u001B[49m\u001B[43m \u001B[49m\u001B[38;5;28;43;01mNone\u001B[39;49;00m\u001B[43m)\u001B[49m\u001B[43m,\u001B[49m\n\u001B[0;32m   1665\u001B[0m \u001B[43m    \u001B[49m\u001B[43mcompression\u001B[49m\u001B[38;5;241;43m=\u001B[39;49m\u001B[38;5;28;43mself\u001B[39;49m\u001B[38;5;241;43m.\u001B[39;49m\u001B[43moptions\u001B[49m\u001B[38;5;241;43m.\u001B[39;49m\u001B[43mget\u001B[49m\u001B[43m(\u001B[49m\u001B[38;5;124;43m\"\u001B[39;49m\u001B[38;5;124;43mcompression\u001B[39;49m\u001B[38;5;124;43m\"\u001B[39;49m\u001B[43m,\u001B[49m\u001B[43m \u001B[49m\u001B[38;5;28;43;01mNone\u001B[39;49;00m\u001B[43m)\u001B[49m\u001B[43m,\u001B[49m\n\u001B[0;32m   1666\u001B[0m \u001B[43m    \u001B[49m\u001B[43mmemory_map\u001B[49m\u001B[38;5;241;43m=\u001B[39;49m\u001B[38;5;28;43mself\u001B[39;49m\u001B[38;5;241;43m.\u001B[39;49m\u001B[43moptions\u001B[49m\u001B[38;5;241;43m.\u001B[39;49m\u001B[43mget\u001B[49m\u001B[43m(\u001B[49m\u001B[38;5;124;43m\"\u001B[39;49m\u001B[38;5;124;43mmemory_map\u001B[39;49m\u001B[38;5;124;43m\"\u001B[39;49m\u001B[43m,\u001B[49m\u001B[43m \u001B[49m\u001B[38;5;28;43;01mFalse\u001B[39;49;00m\u001B[43m)\u001B[49m\u001B[43m,\u001B[49m\n\u001B[0;32m   1667\u001B[0m \u001B[43m    \u001B[49m\u001B[43mis_text\u001B[49m\u001B[38;5;241;43m=\u001B[39;49m\u001B[43mis_text\u001B[49m\u001B[43m,\u001B[49m\n\u001B[0;32m   1668\u001B[0m \u001B[43m    \u001B[49m\u001B[43merrors\u001B[49m\u001B[38;5;241;43m=\u001B[39;49m\u001B[38;5;28;43mself\u001B[39;49m\u001B[38;5;241;43m.\u001B[39;49m\u001B[43moptions\u001B[49m\u001B[38;5;241;43m.\u001B[39;49m\u001B[43mget\u001B[49m\u001B[43m(\u001B[49m\u001B[38;5;124;43m\"\u001B[39;49m\u001B[38;5;124;43mencoding_errors\u001B[39;49m\u001B[38;5;124;43m\"\u001B[39;49m\u001B[43m,\u001B[49m\u001B[43m \u001B[49m\u001B[38;5;124;43m\"\u001B[39;49m\u001B[38;5;124;43mstrict\u001B[39;49m\u001B[38;5;124;43m\"\u001B[39;49m\u001B[43m)\u001B[49m\u001B[43m,\u001B[49m\n\u001B[0;32m   1669\u001B[0m \u001B[43m    \u001B[49m\u001B[43mstorage_options\u001B[49m\u001B[38;5;241;43m=\u001B[39;49m\u001B[38;5;28;43mself\u001B[39;49m\u001B[38;5;241;43m.\u001B[39;49m\u001B[43moptions\u001B[49m\u001B[38;5;241;43m.\u001B[39;49m\u001B[43mget\u001B[49m\u001B[43m(\u001B[49m\u001B[38;5;124;43m\"\u001B[39;49m\u001B[38;5;124;43mstorage_options\u001B[39;49m\u001B[38;5;124;43m\"\u001B[39;49m\u001B[43m,\u001B[49m\u001B[43m \u001B[49m\u001B[38;5;28;43;01mNone\u001B[39;49;00m\u001B[43m)\u001B[49m\u001B[43m,\u001B[49m\n\u001B[0;32m   1670\u001B[0m \u001B[43m\u001B[49m\u001B[43m)\u001B[49m\n\u001B[0;32m   1671\u001B[0m \u001B[38;5;28;01massert\u001B[39;00m \u001B[38;5;28mself\u001B[39m\u001B[38;5;241m.\u001B[39mhandles \u001B[38;5;129;01mis\u001B[39;00m \u001B[38;5;129;01mnot\u001B[39;00m \u001B[38;5;28;01mNone\u001B[39;00m\n\u001B[0;32m   1672\u001B[0m f \u001B[38;5;241m=\u001B[39m \u001B[38;5;28mself\u001B[39m\u001B[38;5;241m.\u001B[39mhandles\u001B[38;5;241m.\u001B[39mhandle\n",
      "File \u001B[1;32m~\\Desktop\\nlp_bot\\venv\\lib\\site-packages\\pandas\\io\\common.py:859\u001B[0m, in \u001B[0;36mget_handle\u001B[1;34m(path_or_buf, mode, encoding, compression, memory_map, is_text, errors, storage_options)\u001B[0m\n\u001B[0;32m    854\u001B[0m \u001B[38;5;28;01melif\u001B[39;00m \u001B[38;5;28misinstance\u001B[39m(handle, \u001B[38;5;28mstr\u001B[39m):\n\u001B[0;32m    855\u001B[0m     \u001B[38;5;66;03m# Check whether the filename is to be opened in binary mode.\u001B[39;00m\n\u001B[0;32m    856\u001B[0m     \u001B[38;5;66;03m# Binary mode does not support 'encoding' and 'newline'.\u001B[39;00m\n\u001B[0;32m    857\u001B[0m     \u001B[38;5;28;01mif\u001B[39;00m ioargs\u001B[38;5;241m.\u001B[39mencoding \u001B[38;5;129;01mand\u001B[39;00m \u001B[38;5;124m\"\u001B[39m\u001B[38;5;124mb\u001B[39m\u001B[38;5;124m\"\u001B[39m \u001B[38;5;129;01mnot\u001B[39;00m \u001B[38;5;129;01min\u001B[39;00m ioargs\u001B[38;5;241m.\u001B[39mmode:\n\u001B[0;32m    858\u001B[0m         \u001B[38;5;66;03m# Encoding\u001B[39;00m\n\u001B[1;32m--> 859\u001B[0m         handle \u001B[38;5;241m=\u001B[39m \u001B[38;5;28;43mopen\u001B[39;49m\u001B[43m(\u001B[49m\n\u001B[0;32m    860\u001B[0m \u001B[43m            \u001B[49m\u001B[43mhandle\u001B[49m\u001B[43m,\u001B[49m\n\u001B[0;32m    861\u001B[0m \u001B[43m            \u001B[49m\u001B[43mioargs\u001B[49m\u001B[38;5;241;43m.\u001B[39;49m\u001B[43mmode\u001B[49m\u001B[43m,\u001B[49m\n\u001B[0;32m    862\u001B[0m \u001B[43m            \u001B[49m\u001B[43mencoding\u001B[49m\u001B[38;5;241;43m=\u001B[39;49m\u001B[43mioargs\u001B[49m\u001B[38;5;241;43m.\u001B[39;49m\u001B[43mencoding\u001B[49m\u001B[43m,\u001B[49m\n\u001B[0;32m    863\u001B[0m \u001B[43m            \u001B[49m\u001B[43merrors\u001B[49m\u001B[38;5;241;43m=\u001B[39;49m\u001B[43merrors\u001B[49m\u001B[43m,\u001B[49m\n\u001B[0;32m    864\u001B[0m \u001B[43m            \u001B[49m\u001B[43mnewline\u001B[49m\u001B[38;5;241;43m=\u001B[39;49m\u001B[38;5;124;43m\"\u001B[39;49m\u001B[38;5;124;43m\"\u001B[39;49m\u001B[43m,\u001B[49m\n\u001B[0;32m    865\u001B[0m \u001B[43m        \u001B[49m\u001B[43m)\u001B[49m\n\u001B[0;32m    866\u001B[0m     \u001B[38;5;28;01melse\u001B[39;00m:\n\u001B[0;32m    867\u001B[0m         \u001B[38;5;66;03m# Binary mode\u001B[39;00m\n\u001B[0;32m    868\u001B[0m         handle \u001B[38;5;241m=\u001B[39m \u001B[38;5;28mopen\u001B[39m(handle, ioargs\u001B[38;5;241m.\u001B[39mmode)\n",
      "\u001B[1;31mFileNotFoundError\u001B[0m: [Errno 2] No such file or directory: 'data_history.csv'"
     ]
    }
   ],
   "source": [
    "df_lbl = pd.read_csv('data_history.csv')\n",
    "df_lbl=df_lbl.drop(columns=['Unnamed: 0'])"
   ],
   "metadata": {
    "collapsed": false,
    "ExecuteTime": {
     "end_time": "2023-05-02T16:21:24.367952Z",
     "start_time": "2023-05-02T16:21:24.118896100Z"
    }
   }
  },
  {
   "cell_type": "code",
   "execution_count": null,
   "outputs": [],
   "source": [
    "len(df_lbl)"
   ],
   "metadata": {
    "collapsed": false,
    "ExecuteTime": {
     "start_time": "2023-05-02T16:21:24.361950800Z"
    }
   }
  },
  {
   "cell_type": "code",
   "execution_count": 58,
   "outputs": [
    {
     "data": {
      "text/plain": "                                                index   \n0    Patient: I feel like I'm stuck in a rut. I go...  \\\n1    Patient: I feel like I'm stuck in a rut. I go...   \n2    Patient: I feel like I'm stuck in a rut. I go...   \n3    Patient: I feel like I'm stuck in a rut. I go...   \n4    Patient: I feel like I'm stuck in a rut. I go...   \n5    Patient: I feel like I'm stuck in a rut. I go...   \n6    Patient: I feel like I'm stuck in a rut. I go...   \n7    Patient: I feel like I'm stuck in a rut. I go...   \n8    Patient: I've been feeling really anxious lat...   \n9    Patient: I've been feeling really anxious lat...   \n10   Patient: I've been feeling really anxious lat...   \n11   Patient: I've been feeling really anxious lat...   \n12   Patient: I've been feeling really anxious lat...   \n13   Patient: I've been feeling really anxious lat...   \n14   Patient: I've been feeling really anxious lat...   \n\n                                                    0   \n0   It sounds like you're experiencing a sense of ...  \\\n1   It sounds like you're experiencing a sense of ...   \n2   It's important to acknowledge the reality of d...   \n3   Let's explore what might be preventing you fro...   \n4   It's understandable to fear failure, but it's ...   \n5   That's a great starting point. What's holding ...   \n6   Let's break this down into smaller steps. Can ...   \n7   Great! And remember, our lives have meaning wh...   \n8                                                 NaN   \n9                                                 NaN   \n10                                                NaN   \n11                                                NaN   \n12                                                NaN   \n13                                                NaN   \n14                                                NaN   \n\n                                                  0.1  0.2  0.3  0.4  0.5  \n0                                                 NaN  NaN  NaN  NaN  NaN  \n1                                                 NaN  NaN  NaN  NaN  NaN  \n2                                                 NaN  NaN  NaN  NaN  NaN  \n3                                                 NaN  NaN  NaN  NaN  NaN  \n4                                                 NaN  NaN  NaN  NaN  NaN  \n5                                                 NaN  NaN  NaN  NaN  NaN  \n6                                                 NaN  NaN  NaN  NaN  NaN  \n7                                                 NaN  NaN  NaN  NaN  NaN  \n8   That sounds really distressing. Have you notic...  NaN  NaN  NaN  NaN  \n9   It sounds like you might be experiencing some ...  NaN  NaN  NaN  NaN  \n10  That's a common fear, but it's important to re...  NaN  NaN  NaN  NaN  \n11  That can be a really difficult feeling, but it...  NaN  NaN  NaN  NaN  \n12  That makes sense, but it's important to rememb...  NaN  NaN  NaN  NaN  \n13  That's a valid fear, but it's also an opportun...  NaN  NaN  NaN  NaN  \n14  That's a great question, and there are a lot o...  NaN  NaN  NaN  NaN  ",
      "text/html": "<div>\n<style scoped>\n    .dataframe tbody tr th:only-of-type {\n        vertical-align: middle;\n    }\n\n    .dataframe tbody tr th {\n        vertical-align: top;\n    }\n\n    .dataframe thead th {\n        text-align: right;\n    }\n</style>\n<table border=\"1\" class=\"dataframe\">\n  <thead>\n    <tr style=\"text-align: right;\">\n      <th></th>\n      <th>index</th>\n      <th>0</th>\n      <th>0.1</th>\n      <th>0.2</th>\n      <th>0.3</th>\n      <th>0.4</th>\n      <th>0.5</th>\n    </tr>\n  </thead>\n  <tbody>\n    <tr>\n      <th>0</th>\n      <td>Patient: I feel like I'm stuck in a rut. I go...</td>\n      <td>It sounds like you're experiencing a sense of ...</td>\n      <td>NaN</td>\n      <td>NaN</td>\n      <td>NaN</td>\n      <td>NaN</td>\n      <td>NaN</td>\n    </tr>\n    <tr>\n      <th>1</th>\n      <td>Patient: I feel like I'm stuck in a rut. I go...</td>\n      <td>It sounds like you're experiencing a sense of ...</td>\n      <td>NaN</td>\n      <td>NaN</td>\n      <td>NaN</td>\n      <td>NaN</td>\n      <td>NaN</td>\n    </tr>\n    <tr>\n      <th>2</th>\n      <td>Patient: I feel like I'm stuck in a rut. I go...</td>\n      <td>It's important to acknowledge the reality of d...</td>\n      <td>NaN</td>\n      <td>NaN</td>\n      <td>NaN</td>\n      <td>NaN</td>\n      <td>NaN</td>\n    </tr>\n    <tr>\n      <th>3</th>\n      <td>Patient: I feel like I'm stuck in a rut. I go...</td>\n      <td>Let's explore what might be preventing you fro...</td>\n      <td>NaN</td>\n      <td>NaN</td>\n      <td>NaN</td>\n      <td>NaN</td>\n      <td>NaN</td>\n    </tr>\n    <tr>\n      <th>4</th>\n      <td>Patient: I feel like I'm stuck in a rut. I go...</td>\n      <td>It's understandable to fear failure, but it's ...</td>\n      <td>NaN</td>\n      <td>NaN</td>\n      <td>NaN</td>\n      <td>NaN</td>\n      <td>NaN</td>\n    </tr>\n    <tr>\n      <th>5</th>\n      <td>Patient: I feel like I'm stuck in a rut. I go...</td>\n      <td>That's a great starting point. What's holding ...</td>\n      <td>NaN</td>\n      <td>NaN</td>\n      <td>NaN</td>\n      <td>NaN</td>\n      <td>NaN</td>\n    </tr>\n    <tr>\n      <th>6</th>\n      <td>Patient: I feel like I'm stuck in a rut. I go...</td>\n      <td>Let's break this down into smaller steps. Can ...</td>\n      <td>NaN</td>\n      <td>NaN</td>\n      <td>NaN</td>\n      <td>NaN</td>\n      <td>NaN</td>\n    </tr>\n    <tr>\n      <th>7</th>\n      <td>Patient: I feel like I'm stuck in a rut. I go...</td>\n      <td>Great! And remember, our lives have meaning wh...</td>\n      <td>NaN</td>\n      <td>NaN</td>\n      <td>NaN</td>\n      <td>NaN</td>\n      <td>NaN</td>\n    </tr>\n    <tr>\n      <th>8</th>\n      <td>Patient: I've been feeling really anxious lat...</td>\n      <td>NaN</td>\n      <td>That sounds really distressing. Have you notic...</td>\n      <td>NaN</td>\n      <td>NaN</td>\n      <td>NaN</td>\n      <td>NaN</td>\n    </tr>\n    <tr>\n      <th>9</th>\n      <td>Patient: I've been feeling really anxious lat...</td>\n      <td>NaN</td>\n      <td>It sounds like you might be experiencing some ...</td>\n      <td>NaN</td>\n      <td>NaN</td>\n      <td>NaN</td>\n      <td>NaN</td>\n    </tr>\n    <tr>\n      <th>10</th>\n      <td>Patient: I've been feeling really anxious lat...</td>\n      <td>NaN</td>\n      <td>That's a common fear, but it's important to re...</td>\n      <td>NaN</td>\n      <td>NaN</td>\n      <td>NaN</td>\n      <td>NaN</td>\n    </tr>\n    <tr>\n      <th>11</th>\n      <td>Patient: I've been feeling really anxious lat...</td>\n      <td>NaN</td>\n      <td>That can be a really difficult feeling, but it...</td>\n      <td>NaN</td>\n      <td>NaN</td>\n      <td>NaN</td>\n      <td>NaN</td>\n    </tr>\n    <tr>\n      <th>12</th>\n      <td>Patient: I've been feeling really anxious lat...</td>\n      <td>NaN</td>\n      <td>That makes sense, but it's important to rememb...</td>\n      <td>NaN</td>\n      <td>NaN</td>\n      <td>NaN</td>\n      <td>NaN</td>\n    </tr>\n    <tr>\n      <th>13</th>\n      <td>Patient: I've been feeling really anxious lat...</td>\n      <td>NaN</td>\n      <td>That's a valid fear, but it's also an opportun...</td>\n      <td>NaN</td>\n      <td>NaN</td>\n      <td>NaN</td>\n      <td>NaN</td>\n    </tr>\n    <tr>\n      <th>14</th>\n      <td>Patient: I've been feeling really anxious lat...</td>\n      <td>NaN</td>\n      <td>That's a great question, and there are a lot o...</td>\n      <td>NaN</td>\n      <td>NaN</td>\n      <td>NaN</td>\n      <td>NaN</td>\n    </tr>\n  </tbody>\n</table>\n</div>"
     },
     "execution_count": 58,
     "metadata": {},
     "output_type": "execute_result"
    }
   ],
   "source": [
    "df_lbl.head(15)"
   ],
   "metadata": {
    "collapsed": false
   }
  },
  {
   "cell_type": "markdown",
   "source": [
    " упс, что-то странное, много Nan'ов надо разобраться и сделать аккуратный датафрейм"
   ],
   "metadata": {
    "collapsed": false
   }
  },
  {
   "cell_type": "code",
   "execution_count": 59,
   "outputs": [
    {
     "name": "stdout",
     "output_type": "stream",
     "text": [
      "index 0 1457023\n",
      "0 1457015 8\n",
      "0.1 1457016 7\n",
      "0.2 1456597 426\n",
      "0.3 710294 746729\n",
      "0.4 1457006 17\n",
      "0.5 747187 709836\n"
     ]
    }
   ],
   "source": [
    "for column in df_lbl.columns:\n",
    "    print(column, sum(df_lbl[column].isna()), len(df_lbl[column].dropna()))"
   ],
   "metadata": {
    "collapsed": false
   }
  },
  {
   "cell_type": "markdown",
   "source": [
    "значит проблема только в ответах терапевтов (Запускала несколько раз и походу от загрузки данных добавлялся новый индекс колонки ответа), надо все ответы в одну колоку перенести"
   ],
   "metadata": {
    "collapsed": false
   }
  },
  {
   "cell_type": "code",
   "execution_count": 60,
   "outputs": [
    {
     "name": "stdout",
     "output_type": "stream",
     "text": [
      "8 8\n",
      "7 7\n",
      "426 426\n",
      "746729 746729\n",
      "17 17\n",
      "709836 709836\n"
     ]
    }
   ],
   "source": [
    "# проверим а индексы nan.ов идут по порядку? если да, тогда действительно причина в том, что каждый  раз когда я запускала скрипт, и колонки смещались\n",
    "for column in df_lbl.columns[1:]:\n",
    "    s=df_lbl[column].notna()\n",
    "    indices = (s[s].index.values)\n",
    "    print(max(indices)-min(indices)+1, len(indices))"
   ],
   "metadata": {
    "collapsed": false
   }
  },
  {
   "cell_type": "markdown",
   "source": [
    "объединим все"
   ],
   "metadata": {
    "collapsed": false
   }
  },
  {
   "cell_type": "code",
   "execution_count": 67,
   "outputs": [],
   "source": [
    "for column in df_lbl.columns[2:]:\n",
    "    s=df_lbl[column].notna()\n",
    "    indices = (s[s].index.values)\n",
    "    df_lbl['0'].iloc[indices[0]:indices[len(indices)-1]+1] = df_lbl[column].iloc[indices[0]:indices[len(indices)-1]+1]"
   ],
   "metadata": {
    "collapsed": false
   }
  },
  {
   "cell_type": "code",
   "execution_count": 69,
   "outputs": [
    {
     "name": "stdout",
     "output_type": "stream",
     "text": [
      "1457023 1457023\n"
     ]
    }
   ],
   "source": [
    "#проверим все ли ок\n",
    "\n",
    "df_end = df_lbl[['index','0']]\n",
    "print(len(df_end['index'].isna()), len(df_end['0'].isna()))"
   ],
   "metadata": {
    "collapsed": false
   }
  },
  {
   "cell_type": "markdown",
   "source": [
    "теперь случайно выдернем несколько фраз, посмотрим вес ли там ок\n"
   ],
   "metadata": {
    "collapsed": false
   }
  },
  {
   "cell_type": "code",
   "execution_count": 103,
   "outputs": [],
   "source": [
    "random_ind = np.random.randint(len(df_end),size=4)"
   ],
   "metadata": {
    "collapsed": false
   }
  },
  {
   "cell_type": "code",
   "execution_count": 104,
   "outputs": [],
   "source": [
    "random_phrases = df_end.iloc[random_ind]"
   ],
   "metadata": {
    "collapsed": false
   }
  },
  {
   "cell_type": "code",
   "execution_count": 110,
   "outputs": [
    {
     "name": "stdout",
     "output_type": "stream",
     "text": [
      "------------------------------------------\n",
      "input:   Patient: I'm feeling incredibly lost and unsure about my future. I've been thinking a lot about what I want to do with my life, but nothing seems to feel right. Therapist:  \n",
      "\n",
      "target:  It sounds like you're experiencing a lot of anxiety and uncertainty about your future. Can you tell me more about what's been coming up for you?\n",
      "------------------------------------------\n",
      "input:   Patient: I'm not sure if I should continue with my studies. I feel lost and confused about my future. Therapist: It sounds like you're experiencing a lot of uncertainty and pressure regarding your academic direction. Let's explore this together. Can you tell me more about what's causing these feelings for you? Patient: I just feel like I'm not passionate about anything anymore. I used to love my major, but now everything feels pointless. Therapist: I see. It can be difficult to maintain our drive and enthusiasm for a subject over a long period of time. Have you considered taking a break or exploring other interests to see if something else inspires you? Patient: I haven't really thought about that. I feel like quitting would be admitting failure. Therapist: I understand how that can be a difficult thought to navigate. Perhaps reframing it as a necessary step towards finding what truly fulfills you might be helpful. Have you ever heard the saying failure is not falling down, but refusing to get up? Patient: That makes sense, but what if I never find my passion? What's the point of it all? Therapist: These are very existential questions, and it's not uncommon to feel this way at certain points in life. Let's explore what gives your life meaning aside from academics. Are there any relationships, hobbies, or experiences that bring you joy? Patient: I guess spending time with my friends and playing video games makes me happy. Therapist:  \n",
      "\n",
      "target:  That's wonderful. Perhaps finding ways to incorporate those things into your life more often can help alleviate the pressure you're feeling. It's important to remember that being happy and fulfilled doesn't necessarily require a certain career or academic path.\n",
      "------------------------------------------\n",
      "input:   Patient: I don't know what to do with my life. I feel like I'm wasting my potential and don't have any direction. Therapist: It's understandable to feel lost or directionless at times, especially when it comes to deciding on a path for our lives. Let's explore this further. What are some things that interest you or bring you joy? Patient: Well, I enjoy painting and music, but I don't think I could make a career out of those things. Therapist: Why not? Have you considered pursuing those interests as a hobby or taking classes to expand your skill set? It's important to find ways to incorporate your passions and interests into your daily life, whether it be through work or leisure activities. Patient: I guess I've just always been told that I need to pursue a stable career with a good salary. Therapist: It's understandable to feel pressure from societal expectations, but ultimately, it's important for you to make choices that align with your values and bring meaning to your life. What are some values that are important to you? Patient: I value creativity, authenticity, and connections with others. Therapist:  \n",
      "\n",
      "target:  Great, now let's explore ways in which you can incorporate those values into your life and potential career paths. It's important to remember that finding a fulfilling career takes time and exploration, but it's possible to find something that aligns with your values and passions.\n",
      "------------------------------------------\n",
      "input:   Patient: I've been feeling really lost lately. Everything just feels meaningless and pointless. Therapist: It sounds like you're struggling with questions about the meaning of life. Many people experience this at some point in their lives. Let's explore this further. What specifically is making you feel that your life has no meaning? Patient: Honestly, I just feel like nothing I do really matters in the grand scheme of things. I'm just going through the motions and nothing feels fulfilling. Therapist:  \n",
      "\n",
      "target:  I understand how you feel. It can be difficult to find meaning in life, particularly when we are faced with our own mortality. However, it's important to remember that meaning doesn't necessarily come from external sources or accomplishments. It can also come from internal experiences like relationships, personal growth, and connecting with something greater than ourselves. Have you considered exploring your own values and beliefs and how they can contribute to a sense of purpose?\n"
     ]
    }
   ],
   "source": [
    "for row in random_phrases.iterrows():\n",
    "    print('------------------------------------------')\n",
    "    print('input: ', row[1]['index'],'\\n')\n",
    "    print('target: ', row[1]['0'])"
   ],
   "metadata": {
    "collapsed": false
   }
  },
  {
   "cell_type": "markdown",
   "source": [
    " вроде все хорошо! (я когда генерировала данные, старалась сразу сделать хорошо)"
   ],
   "metadata": {
    "collapsed": false
   }
  },
  {
   "cell_type": "markdown",
   "source": [
    "# Теперь посмотрим на распределение частот слов"
   ],
   "metadata": {
    "collapsed": false
   }
  },
  {
   "cell_type": "code",
   "execution_count": 122,
   "outputs": [],
   "source": [
    "# думаю надо лемматизировать, чтоб считать слова за одинаковые независимо от окончания и суффиксов"
   ],
   "metadata": {
    "collapsed": false
   }
  },
  {
   "cell_type": "code",
   "execution_count": 176,
   "outputs": [],
   "source": [
    "import spacy\n",
    "import collections\n",
    "import seaborn as sns"
   ],
   "metadata": {
    "collapsed": false
   }
  },
  {
   "cell_type": "code",
   "execution_count": 163,
   "outputs": [
    {
     "name": "stdout",
     "output_type": "stream",
     "text": [
      "^C\n"
     ]
    }
   ],
   "source": [
    "!python -m spacy download en_core_web_sm"
   ],
   "metadata": {
    "collapsed": false
   }
  },
  {
   "cell_type": "code",
   "execution_count": 137,
   "outputs": [],
   "source": [
    "nlp = spacy.load(\"en_core_web_sm\")"
   ],
   "metadata": {
    "collapsed": false
   }
  },
  {
   "cell_type": "markdown",
   "source": [],
   "metadata": {
    "collapsed": false
   }
  },
  {
   "cell_type": "code",
   "execution_count": 142,
   "outputs": [],
   "source": [
    "target_data = df_end['0'].tolist()"
   ],
   "metadata": {
    "collapsed": false
   }
  },
  {
   "cell_type": "code",
   "execution_count": 146,
   "outputs": [
    {
     "data": {
      "text/plain": "1457023"
     },
     "execution_count": 146,
     "metadata": {},
     "output_type": "execute_result"
    }
   ],
   "source": [
    "len(target_data)"
   ],
   "metadata": {
    "collapsed": false
   }
  },
  {
   "cell_type": "code",
   "execution_count": 150,
   "outputs": [
    {
     "data": {
      "text/plain": "[1084420,\n 80404,\n 138577,\n 628346,\n 297638,\n 1356516,\n 294537,\n 134470,\n 394418,\n 456771,\n 117586,\n 1374693,\n 243035,\n 348462,\n 651381,\n 992914,\n 1350429,\n 46273,\n 1402262,\n 420559,\n 1122666,\n 184736,\n 1287681,\n 676349,\n 535547,\n 427962,\n 348847,\n 195685,\n 366557,\n 206004,\n 797750,\n 530193,\n 702229,\n 135385,\n 958594,\n 74120,\n 1445168,\n 1344785,\n 303135,\n 1439822,\n 292775,\n 369725,\n 1257601,\n 1006529,\n 725813,\n 622479,\n 239703,\n 639080,\n 93220,\n 140632,\n 1196494,\n 1313678,\n 1096145,\n 291383,\n 982391,\n 888640,\n 743956,\n 484445,\n 786109,\n 1108348,\n 615847,\n 1064828,\n 968537,\n 658468,\n 879197,\n 361000,\n 1428060,\n 142969,\n 625529,\n 942914,\n 743967,\n 1170505,\n 1429476,\n 430329,\n 1080470,\n 33195,\n 666175,\n 416762,\n 1329590,\n 417999,\n 1316179,\n 869736,\n 21980,\n 878086,\n 868618,\n 760826,\n 1221194,\n 86897,\n 1282575,\n 444732,\n 933360,\n 407123,\n 336347,\n 1061062,\n 155497,\n 1314223,\n 947079,\n 919143,\n 131829,\n 395360,\n 553921,\n 233573,\n 860271,\n 149758,\n 1316988,\n 698168,\n 291248,\n 851675,\n 847743,\n 678356,\n 491018,\n 307659,\n 1261287,\n 662298,\n 118801,\n 1182646,\n 1327744,\n 675414,\n 422520,\n 104159,\n 149163,\n 197656,\n 1379440,\n 377675,\n 1312468,\n 1283311,\n 1030195,\n 678844,\n 676849,\n 1416254,\n 1358429,\n 974307,\n 1328597,\n 1025279,\n 27003,\n 318848,\n 1432800,\n 1099135,\n 401718,\n 196399,\n 367942,\n 254783,\n 547379,\n 230640,\n 446741,\n 892697,\n 506822,\n 1382082,\n 207094,\n 1120412,\n 1217954,\n 1134747,\n 1186847,\n 1061395,\n 915194,\n 1233786,\n 322099,\n 1286027,\n 460155,\n 1125495,\n 338317,\n 633549,\n 1054193,\n 1178885,\n 758576,\n 1038572,\n 1305824,\n 502721,\n 1348709,\n 810730,\n 865713,\n 896329,\n 48332,\n 666759,\n 37375,\n 368703,\n 497043,\n 1066403,\n 592367,\n 1033917,\n 40133,\n 70863,\n 355784,\n 1046669,\n 1119926,\n 367696,\n 597073,\n 1155251,\n 1126401,\n 626749,\n 510000,\n 790483,\n 691364,\n 527259,\n 602305,\n 318156,\n 762242,\n 345854,\n 442711,\n 1428324,\n 859160,\n 1170163,\n 630533,\n 23255,\n 1206449,\n 762332,\n 233720,\n 85277,\n 1326304,\n 530875,\n 816154,\n 668213,\n 419854,\n 10902,\n 373823,\n 881127,\n 455048,\n 448561,\n 595920,\n 391606,\n 894567,\n 750033,\n 1117821,\n 253072,\n 1058201,\n 282959,\n 1231516,\n 780163,\n 1087994,\n 1302897,\n 1159302,\n 286370,\n 162563,\n 530585,\n 1271500,\n 620720,\n 812298,\n 1441198,\n 928861,\n 1318766,\n 612601,\n 344091,\n 278165,\n 762873,\n 1168666,\n 971599,\n 11978,\n 203333,\n 1241605,\n 1327761,\n 877340,\n 116302,\n 811014,\n 1310256,\n 107080,\n 799764,\n 1400606,\n 1431708,\n 184238,\n 621756,\n 1171359,\n 340280,\n 580400,\n 312421,\n 1396594,\n 1194473,\n 134324,\n 618914,\n 847256,\n 1268001,\n 685945,\n 1441449,\n 1116095,\n 944426,\n 291633,\n 917931,\n 130216,\n 15793,\n 594041,\n 1439539,\n 1159037,\n 55495,\n 595035,\n 1310609,\n 857355,\n 572675,\n 133689,\n 1220827,\n 921960,\n 108220,\n 278066,\n 485036,\n 1103560,\n 1293552,\n 1137752,\n 1099686,\n 870843,\n 625822,\n 1276965,\n 1042719,\n 697730,\n 825304,\n 322721,\n 610337,\n 73251,\n 1240715,\n 1453247,\n 21950,\n 1097903,\n 989675,\n 575016,\n 845624,\n 600515,\n 729076,\n 555734,\n 393881,\n 961799,\n 1308503,\n 76541,\n 687713,\n 787523,\n 137344,\n 1182558,\n 283264,\n 302614,\n 708397,\n 848007,\n 490735,\n 436790,\n 298960,\n 1187169,\n 784868,\n 653933,\n 1071037,\n 1193684,\n 173714,\n 1062271,\n 292105,\n 14059,\n 21078,\n 1233891,\n 691809,\n 102586,\n 758333,\n 1094872,\n 615926,\n 695060,\n 1324965,\n 119846,\n 918013,\n 272048,\n 163408,\n 426112,\n 477460,\n 409562,\n 1144087,\n 1060556,\n 1180466,\n 902349,\n 83470,\n 124311,\n 294776,\n 55837,\n 247239,\n 839121,\n 371754,\n 519716,\n 1129357,\n 834355,\n 130674,\n 80241,\n 962915,\n 869305,\n 862554,\n 1079706,\n 378834,\n 503041,\n 259915,\n 1232877,\n 1151614,\n 630648,\n 17358,\n 168789,\n 546795,\n 30267,\n 1135817,\n 674245,\n 1127663,\n 775312,\n 61696,\n 918790,\n 166779,\n 877513,\n 1421099,\n 367829,\n 647664,\n 1010858,\n 986370,\n 1139698,\n 604001,\n 1329963,\n 1242599,\n 99938,\n 399753,\n 675514,\n 70312,\n 344565,\n 254270,\n 1284427,\n 687027,\n 511987,\n 257793,\n 1316224,\n 5953,\n 1329874,\n 808327,\n 185887,\n 716821,\n 670506,\n 101725,\n 311657,\n 1076442,\n 1371039,\n 1032554,\n 1109153,\n 1279587,\n 390674,\n 565233,\n 1231467,\n 604671,\n 1290802,\n 246272,\n 1161287,\n 430978,\n 353616,\n 1202902,\n 961607,\n 1209220,\n 345209,\n 668021,\n 1279284,\n 1380092,\n 1233388,\n 742475,\n 416110,\n 1183221,\n 167954,\n 837966,\n 958945,\n 1277156,\n 1328826,\n 505969,\n 1418115,\n 244747,\n 576252,\n 373457,\n 1270813,\n 170506,\n 750220,\n 45510,\n 1033037,\n 851199,\n 779920,\n 1276136,\n 11321,\n 270148,\n 1287200,\n 705463,\n 664778,\n 203089,\n 462673,\n 878732,\n 1204581,\n 197090,\n 685072,\n 334174,\n 1452370,\n 790124,\n 1410338,\n 1159059,\n 632373,\n 756418,\n 936229,\n 587483,\n 706552,\n 639823,\n 851740,\n 892444,\n 599834,\n 1294931,\n 465477,\n 885553,\n 65648,\n 729248,\n 422643,\n 1030551,\n 1101161,\n 1127727,\n 1132395,\n 276196,\n 1379781,\n 81471,\n 146941,\n 1299768,\n 584238,\n 65208,\n 796113,\n 327593,\n 1021252,\n 79815,\n 771529,\n 1386911,\n 125294,\n 155907,\n 847657,\n 493723,\n 125568,\n 1301845,\n 233716,\n 1128663,\n 894133,\n 718944,\n 552895,\n 444378,\n 399526,\n 775903,\n 878405,\n 998696,\n 981528,\n 467591,\n 484542,\n 1019417,\n 131849,\n 852753,\n 650694,\n 976470,\n 977739,\n 981987,\n 823570,\n 1077462,\n 1228062,\n 715060,\n 1142916,\n 111972,\n 1279337,\n 1110555,\n 667736,\n 235870,\n 1183005,\n 366766,\n 109348,\n 361783,\n 388872,\n 855617,\n 1376165,\n 919753,\n 913236,\n 1006925,\n 995672,\n 1217047,\n 1415860,\n 1122881,\n 532549,\n 879160,\n 360874,\n 1082437,\n 351881,\n 318924,\n 1351334,\n 533943,\n 1131655,\n 659336,\n 131285,\n 158795,\n 698306,\n 643773,\n 38517,\n 479353,\n 1413772,\n 651005,\n 1219818,\n 1118710,\n 1333791,\n 58249,\n 769794,\n 713051,\n 937518,\n 615788,\n 683146,\n 1091388,\n 1297423,\n 1453249,\n 322952,\n 161231,\n 640445,\n 179400,\n 248767,\n 40681,\n 855791,\n 1358673,\n 1431592,\n 923134,\n 740014,\n 639552,\n 1418418,\n 1028466,\n 952596,\n 1081880,\n 136921,\n 362079,\n 558056,\n 571889,\n 603291,\n 1295931,\n 577680,\n 112959,\n 1267687,\n 113236,\n 812980,\n 286305,\n 983234,\n 797916,\n 109134,\n 592220,\n 1401530,\n 870923,\n 348289,\n 988116,\n 1281899,\n 741750,\n 1234783,\n 520692,\n 956999,\n 341261,\n 1396146,\n 558480,\n 571284,\n 1068966,\n 831048,\n 971930,\n 1197483,\n 1072915,\n 637336,\n 1217012,\n 793650,\n 798127,\n 848653,\n 1198175,\n 369377,\n 1412916,\n 1296682,\n 636478,\n 1114947,\n 1001782,\n 1210694,\n 853668,\n 78936,\n 11068,\n 999662,\n 1006984,\n 1336390,\n 1085128,\n 1077755,\n 934795,\n 292689,\n 900865,\n 420819,\n 1282519,\n 379789,\n 993905,\n 857693,\n 315513,\n 684503,\n 1263865,\n 1429783,\n 991765,\n 393475,\n 235447,\n 294942,\n 913983,\n 1391494,\n 1288590,\n 1376071,\n 818485,\n 1340058,\n 682101,\n 143706,\n 590908,\n 388950,\n 613659,\n 816474,\n 1254128,\n 1270343,\n 1183478,\n 840846,\n 1020189,\n 966050,\n 846115,\n 622695,\n 1324297,\n 436335,\n 54459,\n 339584,\n 1358793,\n 611897,\n 1032215,\n 253935,\n 650988,\n 426924,\n 830824,\n 903815,\n 220249,\n 1301763,\n 575863,\n 541336,\n 17168,\n 654238,\n 1189727,\n 336027,\n 757450,\n 342478,\n 165239,\n 195590,\n 563729,\n 548759,\n 1142995,\n 234397,\n 238668,\n 199813,\n 3053,\n 340805,\n 310221,\n 58489,\n 552063,\n 1294267,\n 860534,\n 50083,\n 1135006,\n 67447,\n 743273,\n 459526,\n 726578,\n 15657,\n 979088,\n 100505,\n 32613,\n 618635,\n 1374352,\n 851224,\n 751112,\n 600470,\n 923216,\n 1033545,\n 128866,\n 1114969,\n 1352225,\n 689134,\n 1166916,\n 184401,\n 1142397,\n 788114,\n 1204205,\n 961133,\n 268419,\n 96535,\n 1293479,\n 523622,\n 799822,\n 734676,\n 922548,\n 922020,\n 351685,\n 133406,\n 582670,\n 770012,\n 1141625,\n 220687,\n 342977,\n 998195,\n 91047,\n 459306,\n 424498,\n 291021,\n 1073728,\n 651330,\n 219115,\n 641512,\n 839694,\n 1146773,\n 322276,\n 676534,\n 269345,\n 204695,\n 828560,\n 563763,\n 1267161,\n 356849,\n 1274392,\n 1324346,\n 216465,\n 427117,\n 1404024,\n 333589,\n 443867,\n 1116276,\n 802675,\n 1081057,\n 426282,\n 190471,\n 1377412,\n 296725,\n 815317,\n 250038,\n 235513,\n 922228,\n 1170183,\n 426726,\n 1438551,\n 419516,\n 1369684,\n 664447,\n 271823,\n 778549,\n 279229,\n 44561,\n 1356921,\n 1354506,\n 435594,\n 829383,\n 571601,\n 748056,\n 1049003,\n 948392,\n 541450,\n 1096276,\n 357677,\n 527432,\n 900868,\n 1337026,\n 792307,\n 753705,\n 1173869,\n 905734,\n 1095372,\n 468798,\n 1408527,\n 11479,\n 1443887,\n 97841,\n 790868,\n 563845,\n 544690,\n 139583,\n 55442,\n 766188,\n 93990,\n 95284,\n 387609,\n 682577,\n 703344,\n 606152,\n 853815,\n 551895,\n 474186,\n 816786,\n 1305966,\n 552118,\n 656398,\n 1370394,\n 971539,\n 1032117,\n 481186,\n 208451,\n 1271912,\n 578617,\n 1052205,\n 974288,\n 244531,\n 124272,\n 953142,\n 227362,\n 131156,\n 1044181,\n 622682,\n 1076148,\n 292032,\n 457505,\n 1062078,\n 1101695,\n 174316,\n 732689,\n 1072728,\n 613505,\n 394975,\n 215346,\n 1253248,\n 809029,\n 512720,\n 686109,\n 24293,\n 512218,\n 889160,\n 1379241,\n 960484,\n 922980,\n 979727,\n 1364136,\n 893331,\n 163587,\n 19814,\n 32869,\n 1193019,\n 651963,\n 476081,\n 363741,\n 1074409,\n 471420,\n 333867,\n 140164,\n 842211,\n 334537,\n 538363,\n 476401,\n 1329301,\n 1226794,\n 415277,\n 518139,\n 372040,\n 243361,\n 399754,\n 172180,\n 1321021,\n 1372473,\n 38806,\n 428905,\n 1085657,\n 598267,\n 1166242,\n 1339680,\n 750710,\n 218086,\n 1184664,\n 715069,\n 334701,\n 1258450,\n 1083777,\n 1388036,\n 102762,\n 312422,\n 601726,\n 55130,\n 52798,\n 1305191,\n 470034,\n 285177,\n 781481,\n 809479,\n 545128,\n 570274,\n 63963,\n 242309,\n 1049324,\n 1307542,\n 1383665,\n 293437,\n 277519,\n 859884,\n 841433,\n 181018,\n 222343,\n 108197,\n 991201,\n 134712,\n 19203,\n 283921,\n 730186,\n 1314005,\n 1221227,\n 110861,\n 167907,\n 608008,\n 754642,\n 1337641,\n 928200,\n 1433768,\n 204519,\n 1337818,\n 799878,\n 101541,\n 466505,\n 872060,\n 473012,\n 1136395,\n 1222493,\n 170248,\n 513365,\n 1384780,\n 963013,\n 851014,\n 404935,\n ...]"
     },
     "execution_count": 150,
     "metadata": {},
     "output_type": "execute_result"
    }
   ],
   "source": [
    "a = [1,2,3,4,5]"
   ],
   "metadata": {
    "collapsed": false
   }
  },
  {
   "cell_type": "markdown",
   "source": [
    "# 1.5 млн объектов, а сдавать анализ надо уже сегодня, поэтому я рандомно семплирую 10.000 объектов и буду надеяться, что общее распределение слов будет таким же"
   ],
   "metadata": {
    "collapsed": false
   }
  },
  {
   "cell_type": "code",
   "execution_count": 169,
   "outputs": [],
   "source": [
    "all_target_tokens = []\n",
    "random_ind = np.random.randint(len(target_data), size=10000)\n",
    "for i,object in enumerate(list(map(lambda x: target_data[x],random_ind))):\n",
    "    all_target_tokens+=([token.lemma_.lower() for token in nlp(object) if\n",
    "            not token.is_stop\n",
    "            and not token.is_punct\n",
    "            and not token.is_space])\n",
    "#all_target_tokens"
   ],
   "metadata": {
    "collapsed": false
   }
  },
  {
   "cell_type": "code",
   "execution_count": 168,
   "outputs": [],
   "source": [
    "input_data = df_end['index'].tolist()\n",
    "all_input_tokens = []\n",
    "random_ind = np.random.randint(len(target_data), size=10000)\n",
    "for i,object in enumerate(list(map(lambda x: input_data[x],random_ind))):\n",
    "    all_input_tokens+=([token.lemma_.lower() for token in nlp(object) if\n",
    "            not token.is_stop\n",
    "            and not token.is_punct\n",
    "            and not token.is_space])\n",
    "#all_target_tokens"
   ],
   "metadata": {
    "collapsed": false
   }
  },
  {
   "cell_type": "code",
   "execution_count": 177,
   "outputs": [
    {
     "data": {
      "text/plain": "<Axes: ylabel='Count'>"
     },
     "execution_count": 177,
     "metadata": {},
     "output_type": "execute_result"
    },
    {
     "data": {
      "text/plain": "<Figure size 640x480 with 1 Axes>",
      "image/png": "[encoded data removed]"
     },
     "metadata": {},
     "output_type": "display_data"
    }
   ],
   "source": [
    "sns.histplot(all_target_tokens)"
   ],
   "metadata": {
    "collapsed": false
   }
  },
  {
   "cell_type": "markdown",
   "source": [
    "не видно слов, но видно что есть часть слов которые встречаются более 1000 раз, а остальные (и их больше) - намного чаще. Предположу что тут распределение ~степенное. Лучше посомтрю без графика а через Counter."
   ],
   "metadata": {
    "collapsed": false
   }
  },
  {
   "cell_type": "code",
   "execution_count": 178,
   "outputs": [],
   "source": [
    "ttokens_dict = (collections.Counter(all_target_tokens))\n",
    "itokens_dict = (collections.Counter(all_input_tokens))"
   ],
   "metadata": {
    "collapsed": false
   }
  },
  {
   "cell_type": "code",
   "execution_count": 182,
   "outputs": [],
   "source": [
    "ordered_ttokens = ttokens_dict.most_common()\n",
    "ordered_itokens = itokens_dict.most_common()"
   ],
   "metadata": {
    "collapsed": false
   }
  },
  {
   "cell_type": "code",
   "execution_count": 183,
   "outputs": [
    {
     "data": {
      "text/plain": "[('life', 5235),\n ('feel', 4063),\n ('explore', 3871),\n ('important', 3666),\n ('like', 2878),\n ('remember', 2831),\n ('value', 2778),\n ('purpose', 2542),\n ('way', 2230),\n ('let', 2194),\n ('meaning', 2149),\n ('find', 2105),\n ('sense', 2021),\n ('experience', 2020),\n ('sound', 2001),\n ('time', 1789),\n ('thing', 1477),\n ('feeling', 1421),\n ('bring', 1406),\n ('great', 1368),\n ('common', 1342),\n ('think', 1318),\n ('work', 1301),\n ('understandable', 1236),\n ('okay', 1196),\n ('step', 1148),\n ('take', 1104),\n ('fulfillment', 1042),\n ('consider', 1034),\n ('help', 1005),\n ('struggle', 979),\n ('choice', 975),\n ('existential', 966),\n ('belief', 906),\n ('start', 901),\n ('align', 885),\n ('try', 873),\n ('tell', 858),\n ('new', 852),\n ('fear', 824),\n ('interest', 819),\n ('want', 798),\n ('difficult', 798),\n ('joy', 795),\n ('small', 766),\n ('freedom', 750),\n ('self', 732),\n ('make', 729),\n ('passion', 700),\n ('activity', 686),\n ('meaninglessness', 669),\n ('challenge', 666),\n ('people', 650),\n ('action', 643),\n ('process', 640),\n ('change', 635),\n ('growth', 633),\n ('create', 629),\n ('mean', 618),\n ('helpful', 612),\n ('goal', 608),\n ('anxiety', 575),\n ('come', 571),\n ('different', 548),\n ('support', 545),\n ('right', 539),\n ('especially', 521),\n ('direction', 518),\n ('journey', 515),\n ('concern', 510),\n ('idea', 509),\n ('natural', 489),\n ('give', 486),\n ('career', 483),\n ('pursue', 483),\n ('meaningful', 480),\n ('lose', 476),\n ('relationship', 465),\n ('opportunity', 454),\n ('go', 445),\n ('confront', 439),\n ('isolation', 433),\n ('uncertainty', 432),\n ('face', 431),\n ('live', 425),\n ('fulfil', 420),\n ('existence', 415),\n ('given', 414),\n ('incorporate', 406),\n ('death', 406),\n ('path', 405),\n ('hobby', 399),\n ('question', 395),\n ('hold', 387),\n ('lot', 384),\n ('matter', 378),\n ('truly', 375),\n ('failure', 370),\n ('thought', 369),\n ('cause', 368),\n ('point', 365),\n ('human', 360),\n ('need', 360),\n ('focus', 353),\n ('talk', 352),\n ('reflect', 341),\n ('impact', 340),\n ('maybe', 336),\n ('lead', 333),\n ('look', 330),\n ('moment', 327),\n ('responsibility', 324),\n ('recognize', 322),\n ('care', 320),\n ('contribute', 317),\n ('job', 316),\n ('normal', 314),\n ('embrace', 311),\n ('enjoy', 300),\n ('uncertain', 299),\n ('seek', 299),\n ('decision', 289),\n ('big', 289),\n ('prioritize', 286),\n ('success', 282),\n ('hear', 282),\n ('control', 276),\n ('kind', 275),\n ('learn', 273),\n ('good', 268),\n ('understand', 258),\n ('continue', 257),\n ('deep', 257),\n ('world', 255),\n ('true', 253),\n ('future', 249),\n ('worth', 249),\n ('connect', 247),\n ('connection', 244),\n ('expectation', 244),\n ('overwhelmed', 243),\n ('concept', 243),\n ('place', 241),\n ('angst', 236),\n ('identify', 235),\n ('tough', 234),\n ('power', 233),\n ('stress', 225),\n ('figure', 222),\n ('past', 221),\n ('navigate', 221),\n ('personal', 220),\n ('pressure', 217),\n ('option', 217),\n ('potential', 216),\n ('possible', 213),\n ('build', 212),\n ('outside', 211),\n ('daily', 209),\n ('discover', 207),\n ('happen', 206),\n ('authentic', 205),\n ('strategy', 205),\n ('perspective', 204),\n ('choose', 197),\n ('emotion', 196),\n ('starting', 195),\n ('situation', 194),\n ('set', 193),\n ('manage', 192),\n ('therapy', 192),\n ('forward', 188),\n ('risk', 187),\n ('open', 185),\n ('positive', 183),\n ('learning', 183),\n ('lack', 181),\n ('area', 181),\n ('develop', 180),\n ('resonate', 179),\n ('doubt', 179),\n ('exploration', 178),\n ('know', 177),\n ('mistake', 177),\n ('scary', 175),\n ('volunteer', 174),\n ('external', 172),\n ('grow', 172),\n ('guide', 169),\n ('courage', 169),\n ('arise', 166),\n ('cope', 164),\n ('aspect', 163),\n ('difference', 160),\n ('reality', 160),\n ('present', 160),\n ('current', 158),\n ('lately', 158),\n ('love', 157),\n ('plan', 156),\n ('challenging', 156),\n ('day', 156),\n ('effort', 152),\n ('strength', 150),\n ('overwhelming', 149),\n ('hard', 149),\n ('fulfilling', 147),\n ('mind', 146),\n ('today', 146),\n ('friend', 143),\n ('one', 143),\n ('exercise', 140),\n ('session', 140),\n ('course', 139),\n ('willing', 138),\n ('achieve', 137),\n ('answer', 137),\n ('completely', 135),\n ('move', 135),\n ('approach', 134),\n ('use', 132),\n ('necessarily', 132),\n ('break', 131),\n ('gain', 131),\n ('issue', 131),\n ('share', 130),\n ('passionate', 130),\n ('ask', 128),\n ('desire', 127),\n ('social', 127),\n ('individual', 126),\n ('practice', 125),\n ('valid', 125),\n ('possibility', 125),\n ('incredibly', 125),\n ('compassion', 123),\n ('fact', 123),\n ('acknowledge', 121),\n ('specific', 121),\n ('ongoing', 120),\n ('wrong', 120),\n ('instead', 119),\n ('shift', 119),\n ('well', 118),\n ('exactly', 116),\n ('engage', 116),\n ('believe', 115),\n ('anxious', 115),\n ('ultimately', 114),\n ('balance', 113),\n ('away', 112),\n ('clear', 112),\n ('stuck', 112),\n ('unknown', 110),\n ('easy', 110),\n ('reach', 110),\n ('uncommon', 110),\n ('destination', 109),\n ('specifically', 109),\n ('bit', 109),\n ('unique', 108),\n ('trigger', 108),\n ('actually', 107),\n ('discovery', 107),\n ('disconnected', 107),\n ('define', 106),\n ('transition', 106),\n ('art', 105),\n ('powerful', 105),\n ('source', 105),\n ('creative', 104),\n ('deeply', 104),\n ('search', 104),\n ('mindfulness', 103),\n ('happiness', 103),\n ('welcome', 103),\n ('definitely', 101),\n ('creativity', 101),\n ('additionally', 101),\n ('stay', 100),\n ('relaxation', 100),\n ('little', 100),\n ('clarity', 99),\n ('community', 99),\n ('technique', 98),\n ('reflection', 98),\n ('reframe', 98),\n ('long', 98),\n ('cultivate', 98),\n ('negative', 96),\n ('mortality', 96),\n ('limit', 96),\n ('encourage', 95),\n ('involve', 94),\n ('valuable', 93),\n ('unsure', 92),\n ('routine', 92),\n ('significant', 92),\n ('have', 91),\n ('able', 91),\n ('energy', 91),\n ('late', 91),\n ('overcome', 91),\n ('satisfaction', 90),\n ('setback', 90),\n ('fully', 89),\n ('provide', 89),\n ('ability', 89),\n ('theme', 88),\n ('skill', 88),\n ('person', 87),\n ('certain', 87),\n ('music', 86),\n ('particularly', 85),\n ('disconnection', 84),\n ('close', 84),\n ('therapist', 84),\n ('examine', 84),\n ('example', 84),\n ('deal', 83),\n ('factor', 83),\n ('conversation', 82),\n ('group', 82),\n ('relate', 81),\n ('wonder', 81),\n ('play', 80),\n ('manageable', 80),\n ('order', 79),\n ('compare', 78),\n ('grapple', 78),\n ('achievement', 78),\n ('pattern', 78),\n ('alive', 78),\n ('begin', 78),\n ('insight', 78),\n ('mental', 78),\n ('end', 77),\n ('sign', 77),\n ('comfort', 76),\n ('offer', 76),\n ('brainstorm', 74),\n ('accomplishment', 74),\n ('spark', 73),\n ('outcome', 73),\n ('zone', 72),\n ('transformation', 72),\n ('belong', 71),\n ('confidence', 71),\n ('emptiness', 71),\n ('partner', 70),\n ('handle', 68),\n ('sit', 68),\n ('absolutely', 68),\n ('curious', 68),\n ('priority', 68),\n ('motivation', 68),\n ('health', 68),\n ('weakness', 67),\n ('act', 67),\n ('spend', 67),\n ('family', 66),\n ('condition', 66),\n ('field', 65),\n ('ownership', 65),\n ('certainly', 64),\n ('inner', 64),\n ('leave', 64),\n ('societal', 64),\n ('wonderful', 63),\n ('discuss', 63),\n ('trust', 62),\n ('empower', 62),\n ('tool', 62),\n ('purposeful', 61),\n ('necessary', 61),\n ('interesting', 61),\n ('pace', 61),\n ('obstacle', 60),\n ('respond', 59),\n ('experiment', 59),\n ('class', 59),\n ('meet', 59),\n ('interested', 59),\n ('underlying', 58),\n ('circumstance', 57),\n ('aside', 57),\n ('proud', 57),\n ('pursuit', 57),\n ('drive', 57),\n ('volunteering', 56),\n ('agency', 56),\n ('concrete', 56),\n ('alignment', 56),\n ('rewarding', 56),\n ('inadequacy', 56),\n ('topic', 56),\n ('guidance', 56),\n ('loss', 56),\n ('accept', 55),\n ('progress', 55),\n ('professional', 55),\n ('notice', 55),\n ('join', 55),\n ('allow', 55),\n ('evolve', 55),\n ('put', 55),\n ('worry', 55),\n ('curiosity', 55),\n ('patient', 54),\n ('uncomfortable', 54),\n ('age', 54),\n ('solution', 53),\n ('scared', 53),\n ('understanding', 53),\n ('afraid', 53),\n ('uncover', 53),\n ('communicate', 53),\n ('society', 53),\n ('express', 52),\n ('boundary', 52),\n ('judgment', 52),\n ('response', 52),\n ('inherent', 51),\n ('quality', 51),\n ('task', 51),\n ('large', 51),\n ('truth', 51),\n ('improve', 51),\n ('permission', 50),\n ('similar', 50),\n ('behavior', 50),\n ('internal', 50),\n ('strong', 50),\n ('grand', 50),\n ('address', 49),\n ('catch', 49),\n ('resource', 49),\n ('recently', 49),\n ('validation', 49),\n ('imagine', 49),\n ('kindness', 48),\n ('connected', 48),\n ('fall', 48),\n ('sure', 48),\n ('core', 48),\n ('frustrating', 47),\n ('reconnect', 47),\n ('sleep', 47),\n ('overnight', 47),\n ('free', 47),\n ('stop', 47),\n ('pleasure', 47),\n ('write', 46),\n ('shape', 46),\n ('event', 46),\n ('legacy', 46),\n ('excellent', 46),\n ('healing', 46),\n ('writing', 45),\n ('glad', 45),\n ('inevitability', 45),\n ('mindset', 44),\n ('motivate', 44),\n ('depression', 44),\n ('attitude', 44),\n ('nature', 43),\n ('strive', 43),\n ('message', 43),\n ('disconnect', 43),\n ('heavy', 43),\n ('breathing', 43),\n ('meaningless', 43),\n ('term', 43),\n ('space', 43),\n ('influence', 42),\n ('awareness', 42),\n ('feels', 42),\n ('turn', 42),\n ('remind', 42),\n ('weigh', 42),\n ('simply', 42),\n ('integrate', 42),\n ('system', 41),\n ('simple', 41),\n ('require', 41),\n ('get', 41),\n ('tie', 41),\n ('fulfilled', 41),\n ('purposelessness', 41),\n ('identity', 41),\n ('level', 41),\n ('practical', 41),\n ('authentically', 41),\n ('prevent', 40),\n ('run', 40),\n ('medium', 40),\n ('vulnerability', 40),\n ('miss', 40),\n ('avenue', 40),\n ('research', 39),\n ('base', 39),\n ('organization', 38),\n ('perfect', 38),\n ('add', 38),\n ('period', 38),\n ('stand', 38),\n ('regardless', 38),\n ('benefit', 38),\n ('symptom', 38),\n ('week', 38),\n ('avoid', 37),\n ('see', 37),\n ('overall', 37),\n ('drain', 37),\n ('affect', 37),\n ('yes', 36),\n ('chance', 36),\n ('subjective', 36),\n ('honest', 36),\n ('draw', 36),\n ('burden', 36),\n ('fundamental', 36),\n ('happy', 35),\n ('react', 35),\n ('role', 35),\n ('meditation', 35),\n ('speak', 35),\n ('calm', 35),\n ('distress', 35),\n ('everyday', 35),\n ('inspiration', 34),\n ('list', 34),\n ('trial', 34),\n ('error', 34),\n ('meantime', 34),\n ('realization', 34),\n ('openness', 34),\n ('keep', 33),\n ('reaction', 33),\n ('part', 33),\n ('patience', 33),\n ('fail', 33),\n ('definition', 33),\n ('college', 33),\n ('unexpected', 33),\n ('dear', 33),\n ('dilemma', 33),\n ('disappointment', 33),\n ('head', 32),\n ('decide', 32),\n ('lesson', 32),\n ('physical', 32),\n ('bad', 32),\n ('appreciate', 32),\n ('forgiveness', 32),\n ('unpredictable', 32),\n ('capable', 32),\n ('peace', 32),\n ('breath', 32),\n ('barrier', 32),\n ('ground', 32),\n ('travel', 32),\n ('result', 31),\n ('problem', 31),\n ('reason', 31),\n ('loneliness', 31),\n ('die', 31),\n ('guitar', 31),\n ('inspire', 30),\n ('culture', 30),\n ('graduate', 30),\n ('major', 30),\n ('schedule', 30),\n ('encounter', 30),\n ('mention', 30),\n ('alleviate', 30),\n ('vulnerable', 30),\n ('tap', 29),\n ('particular', 29),\n ('counselor', 29),\n ('aspiration', 29),\n ('fit', 29),\n ('check', 29),\n ('confusion', 29),\n ('attention', 29),\n ('delegate', 29),\n ('serve', 29),\n ('picture', 29),\n ('lifelong', 29),\n ('timeline', 29),\n ('realize', 29),\n ('form', 28),\n ('financial', 28),\n ('transform', 28),\n ('dream', 28),\n ('enjoyment', 28),\n ('underlie', 28),\n ('directionless', 28),\n ('carry', 28),\n ('available', 28),\n ('painting', 28),\n ('stressor', 28),\n ('evidence', 28),\n ('view', 28),\n ('comfortable', 28),\n ('overwhelm', 28),\n ('stability', 27),\n ('local', 27),\n ('pick', 27),\n ('push', 27),\n ('animal', 27),\n ('reconnecte', 27),\n ('limitation', 27),\n ('will', 27),\n ('communication', 27),\n ('vastness', 27),\n ('tension', 27),\n ('stick', 27),\n ('paint', 27),\n ('sorry', 27),\n ('deserve', 26),\n ('development', 26),\n ('essential', 26),\n ('scale', 26),\n ('internalize', 26),\n ('insignificant', 26),\n ('currently', 26),\n ('demand', 26),\n ('measure', 26),\n ('safe', 26),\n ('surround', 25),\n ('industry', 25),\n ('hope', 25),\n ('finite', 25),\n ('crisis', 25),\n ('universe', 25),\n ('autonomy', 25),\n ('ultimate', 25),\n ('productivity', 24),\n ('root', 24),\n ('making', 24),\n ('guilt', 24),\n ('rejection', 24),\n ('realistic', 24),\n ('recharge', 24),\n ('voice', 24),\n ('sensation', 24),\n ('energize', 24),\n ('daunt', 24),\n ('perfectionism', 24),\n ('actively', 23),\n ('bombard', 23),\n ('comparison', 23),\n ('waste', 23),\n ('motivator', 23),\n ('significance', 23),\n ('say', 23),\n ('flow', 23),\n ('reward', 23),\n ('beautiful', 23),\n ('stem', 23),\n ('include', 23),\n ('profound', 23),\n ('calling', 22),\n ('cycle', 22),\n ('implement', 22),\n ('achievable', 22),\n ('expression', 22),\n ('dissatisfaction', 22),\n ('dig', 22),\n ('constantly', 22),\n ('body', 22),\n ('excited', 22),\n ('responsible', 22),\n ('personally', 22),\n ('ah', 22),\n ('hand', 22),\n ('restlessness', 22),\n ('solely', 22),\n ('adjust', 22),\n ('upset', 22),\n ('painful', 22),\n ('admit', 22),\n ('ideal', 22),\n ('engaged', 21),\n ('touch', 21),\n ('receive', 21),\n ('frustration', 21),\n ('key', 21),\n ('recent', 21),\n ('busy', 21),\n ('consequence', 21),\n ('exist', 21),\n ('reduce', 21),\n ('honesty', 21),\n ('eventually', 21),\n ('universal', 21),\n ('non', 21),\n ('traditional', 20),\n ('forget', 20),\n ('old', 20),\n ('discomfort', 20),\n ('stagnant', 20),\n ('motivated', 20),\n ('capacity', 20),\n ('psychology', 20),\n ('inevitable', 20),\n ('trap', 20),\n ('pain', 20),\n ('lifestyle', 20),\n ('expand', 20),\n ('state', 20),\n ('standard', 20),\n ('describe', 20),\n ('obligation', 20),\n ('panic', 20),\n ('network', 20),\n ('expect', 20),\n ('celebrate', 19),\n ('hesitant', 19),\n ('project', 19),\n ('thinking', 19),\n ('openly', 19),\n ('compassionate', 19),\n ('potentially', 19),\n ('perfection', 19),\n ('resilience', 19),\n ('attack', 19),\n ('differently', 19),\n ('commit', 19),\n ('honor', 19),\n ('focused', 19),\n ('excitement', 19),\n ('ripple', 19),\n ('effect', 19),\n ('accordance', 19),\n ('emotional', 19),\n ('temporary', 19),\n ('type', 18),\n ('perceive', 18),\n ('sight', 18),\n ('commitment', 18),\n ('school', 18),\n ('judge', 18),\n ('liberating', 18),\n ('workload', 18),\n ('worthwhile', 18),\n ('esteem', 18),\n ('norm', 18),\n ('spirituality', 17),\n ('manifest', 17),\n ('plate', 17),\n ('discouraged', 17),\n ('lost', 17),\n ('follow', 17),\n ('anytime', 17),\n ('precious', 17),\n ('highly', 17),\n ('active', 17),\n ('contemplate', 17),\n ('unfulfilled', 17),\n ('acceptance', 17),\n ('hopelessness', 17),\n ('jealousy', 17),\n ('complex', 17),\n ('empathy', 17),\n ('environment', 17),\n ('crucial', 17),\n ('linear', 17),\n ('tackle', 17),\n ('seemingly', 17),\n ('finally', 17),\n ('bed', 17),\n ('money', 17),\n ('outlet', 17),\n ('apply', 17),\n ('endless', 17),\n ('delve', 17),\n ('accomplish', 17),\n ('fulfill', 16),\n ('immediate', 16),\n ('determine', 16),\n ('shelter', 16),\n ('trip', 16),\n ('reminder', 16),\n ('habit', 16),\n ('light', 16),\n ('strongly', 16),\n ('train', 16),\n ('sort', 16),\n ('conflict', 16),\n ('inherently', 16),\n ('recognition', 16),\n ('strengthen', 16),\n ('information', 16),\n ('earth', 16),\n ('isolate', 16),\n ('walk', 16),\n ('limited', 16),\n ('ignore', 16),\n ('gentle', 16),\n ('opening', 16),\n ('accountable', 16),\n ('artistic', 15),\n ('predict', 15),\n ('confident', 15),\n ('intention', 15),\n ('dedicated', 15),\n ('clue', 15),\n ('unease', 15),\n ('experimentation', 15),\n ('read', 15),\n ('effectively', 15),\n ('successful', 15),\n ('guarantee', 15),\n ('revisit', 15),\n ('oneself', 15),\n ('insignificance', 15),\n ('short', 15),\n ('depth', 15),\n ('appreciation', 15),\n ('motion', 15),\n ('burnout', 15),\n ('additional', 15),\n ('reignite', 15),\n ('grasp', 15),\n ('healthy', 15),\n ('ambiguity', 14),\n ('principle', 14),\n ('nearby', 14),\n ('slowly', 14),\n ('rely', 14),\n ('inform', 14),\n ('intentionally', 14),\n ('intrinsic', 14),\n ('size', 14),\n ('fast', 14),\n ('typically', 14),\n ('thank', 14),\n ('unsettling', 14),\n ('pay', 14),\n ('envision', 14),\n ('blog', 14),\n ('aware', 14),\n ('breathe', 14),\n ('reassess', 14),\n ('insecurity', 14),\n ('authenticity', 14),\n ('plus', 14),\n ('high', 14),\n ('call', 14),\n ('link', 14),\n ('journale', 14),\n ('pull', 14),\n ('empowered', 13),\n ('member', 13),\n ('clarify', 13),\n ('book', 13),\n ('rediscover', 13),\n ('associate', 13),\n ('mentor', 13),\n ('degree', 13),\n ('increase', 13),\n ('supportive', 13),\n ('admirable', 13),\n ('maintain', 13),\n ('criticism', 13),\n ('replace', 13),\n ('lonely', 13),\n ('boss', 13),\n ('shame', 13),\n ('affirmation', 13),\n ('minded', 13),\n ('combat', 13),\n ('unpredictability', 13),\n ('dedication', 13),\n ('tune', 13),\n ('upbringing', 13),\n ('beauty', 13),\n ('exciting', 13),\n ('note', 13),\n ('mechanism', 12),\n ('frustrate', 12),\n ('distressing', 12),\n ('impossible', 12),\n ('despite', 12),\n ('stumble', 12),\n ('prove', 12),\n ('instinct', 12),\n ('number', 12),\n ('feedback', 12),\n ('deepen', 12),\n ('despair', 12),\n ('existence-', 12),\n ('intense', 12),\n ('photography', 12),\n ('carve', 12),\n ('validate', 12),\n ('invest', 12),\n ('sad', 12),\n ('pro', 12),\n ('con', 12),\n ('exhale', 12),\n ('relax', 12),\n ('viewpoint', 12),\n ('regain', 12),\n ('initially', 12),\n ('hopeless', 12),\n ('shatter', 12),\n ('inadequate', 12),\n ('improvement', 12),\n ('liberate', 12),\n ('unlived', 12),\n ('worried', 12),\n ('judgmental', 12),\n ('positivity', 11),\n ('basketball', 11),\n ('combination', 11),\n ('study', 11),\n ('shake', 11),\n ('distraction', 11),\n ('relevant', 11),\n ('mood', 11),\n ('global', 11),\n ('selfish', 11),\n ('reactive', 11),\n ('predetermine', 11),\n ('assumption', 11),\n ('up', 11),\n ('down', 11),\n ('minute', 11),\n ('couple', 11),\n ('bother', 11),\n ('straightforward', 11),\n ('being', 11),\n ('online', 11),\n ('muscle', 11),\n ('transitional', 11),\n ('excite', 11),\n ('obvious', 11),\n ('teach', 11),\n ('correct', 11),\n ('hurt', 11),\n ('flaw', 11),\n ('inward', 11),\n ('marker', 11),\n ('doctor', 11),\n ('urgency', 11),\n ('juggle', 11),\n ('rut', 11),\n ('conform', 11),\n ('pinpoint', 11),\n ('hiking', 11),\n ('child', 11),\n ('competition', 10),\n ('league', 10),\n ('game', 10),\n ('noble', 10),\n ('outgrow', 10),\n ('far', 10),\n ('dog', 10),\n ('scope', 10),\n ('innate', 10),\n ('interfere', 10),\n ('structured', 10),\n ('knowledge', 10),\n ('line', 10),\n ('trade', 10),\n ('element', 10),\n ('listen', 10),\n ('pass', 10),\n ('stressful', 10),\n ('aligned', 10),\n ('existentialism', 10),\n ('addition', 10),\n ('sake', 10),\n ('buy', 10),\n ('suppress', 10),\n ('aliveness', 10),\n ('frustrated', 10),\n ('discourage', 10),\n ('unstable', 10),\n ('unfulfilling', 10),\n ('unmotivated', 10),\n ('fix', 10),\n ('brave', 10),\n ('privilege', 10),\n ('discouraging', 10),\n ('independent', 10),\n ('rob', 10),\n ('energized', 10),\n ('exhilarate', 10),\n ('interdependence', 10),\n ('ebb', 10),\n ('load', 10),\n ('closure', 10),\n ('return', 9),\n ('catalyst', 9),\n ('advantage', 9),\n ('throw', 9),\n ...]"
     },
     "execution_count": 183,
     "metadata": {},
     "output_type": "execute_result"
    }
   ],
   "source": [
    "ordered_ttokens"
   ],
   "metadata": {
    "collapsed": false
   }
  },
  {
   "cell_type": "markdown",
   "source": [
    "больше 1000 раз встречаются слова: *life, feel, explore, important, like, remember, value, purpose, way,let, meaning, find, sense, experience, sound,time, thing, feeling, bring, great, work, understandable, okay,step, take, fulfillment, consider, help*\n",
    "\n",
    "делаю вывод что скорее всего бот ответит что-то про то, что любые чувства это нормально (okay) и предложит ориентироваться на свои ценности (values) и будет предлагать найти свою цель (purpose/life) в жизни. Кроме того, ориентироваться на свой личный опыт (experience) и сделать шаг (step) к наполнению своей жизнь (fullfilment).... непонятно чем, наверное для каждого запроса свой вариант чем заполнять своб жизнь!"
   ],
   "metadata": {
    "collapsed": false
   }
  },
  {
   "cell_type": "code",
   "execution_count": 184,
   "outputs": [
    {
     "data": {
      "text/plain": "[('feel', 42299),\n ('therapist', 38834),\n ('patient', 38768),\n ('like', 33648),\n ('life', 24772),\n ('know', 14140),\n ('explore', 10220),\n ('think', 10180),\n ('purpose', 9813),\n ('sound', 8837),\n ('sense', 8400),\n ('value', 8157),\n ('important', 8063),\n ('feeling', 7909),\n ('lose', 7755),\n ('experience', 7379),\n ('time', 7318),\n ('want', 7156),\n ('go', 7031),\n ('lately', 6876),\n ('find', 6633),\n ('meaning', 6627),\n ('way', 6381),\n ('let', 5935),\n ('thing', 5683),\n ('sure', 5587),\n ('make', 5212),\n ('common', 5116),\n ('start', 5024),\n ('try', 4926),\n ('struggle', 4886),\n ('work', 4879),\n ('tell', 4740),\n ('job', 4462),\n ('bring', 4307),\n ('understandable', 4109),\n ('remember', 3980),\n ('guess', 3610),\n ('consider', 3578),\n ('existential', 3555),\n ('lot', 3483),\n ('people', 3328),\n ('meaninglessness', 3178),\n ('motion', 3154),\n ('direction', 3015),\n ('matter', 3013),\n ('choice', 2972),\n ('help', 2940),\n ('good', 2907),\n ('joy', 2835),\n ('fulfillment', 2826),\n ('interest', 2786),\n ('difficult', 2785),\n ('career', 2776),\n ('mean', 2693),\n ('anymore', 2654),\n ('passion', 2625),\n ('relationship', 2559),\n ('cause', 2527),\n ('new', 2504),\n ('right', 2477),\n ('take', 2466),\n ('anxiety', 2450),\n ('belief', 2428),\n ('point', 2369),\n ('okay', 2359),\n ('day', 2229),\n ('overwhelmed', 2215),\n ('especially', 2143),\n ('freedom', 2139),\n ('give', 2123),\n ('great', 2095),\n ('live', 2057),\n ('enjoy', 2002),\n ('maybe', 1994),\n ('align', 1987),\n ('come', 1984),\n ('different', 1910),\n ('idea', 1878),\n ('world', 1846),\n ('hobby', 1844),\n ('activity', 1805),\n ('challenge', 1804),\n ('friend', 1801),\n ('family', 1799),\n ('goal', 1756),\n ('love', 1746),\n ('helpful', 1738),\n ('death', 1732),\n ('existence', 1724),\n ('step', 1689),\n ('change', 1662),\n ('given', 1659),\n ('honestly', 1658),\n ('fulfil', 1605),\n ('meaningful', 1594),\n ('fear', 1582),\n ('isolation', 1558),\n ('pursue', 1544),\n ('hard', 1537),\n ('concern', 1534),\n ('contribute', 1499),\n ('self', 1497),\n ('kind', 1497),\n ('truly', 1477),\n ('small', 1457),\n ('thought', 1441),\n ('impact', 1440),\n ('wrong', 1409),\n ('question', 1409),\n ('need', 1395),\n ('talk', 1389),\n ('look', 1388),\n ('anxious', 1383),\n ('face', 1379),\n ('action', 1363),\n ('care', 1347),\n ('uncertainty', 1339),\n ('meaningless', 1336),\n ('future', 1331),\n ('control', 1298),\n ('stick', 1276),\n ('understand', 1252),\n ('stuck', 1247),\n ('confront', 1241),\n ('overwhelming', 1234),\n ('create', 1234),\n ('difference', 1207),\n ('real', 1207),\n ('figure', 1192),\n ('personal', 1160),\n ('angst', 1156),\n ('stress', 1154),\n ('pressure', 1145),\n ('expectation', 1131),\n ('yeah', 1129),\n ('path', 1122),\n ('hold', 1100),\n ('failure', 1075),\n ('opportunity', 1058),\n ('natural', 1046),\n ('moment', 1046),\n ('suppose', 1032),\n ('concept', 1004),\n ('uncertain', 994),\n ('pointless', 976),\n ('big', 975),\n ('volunteer', 973),\n ('happen', 960),\n ('responsibility', 953),\n ('reflect', 949),\n ('potential', 949),\n ('decision', 937),\n ('place', 935),\n ('focus', 921),\n ('lead', 908),\n ('tough', 904),\n ('growth', 900),\n ('year', 897),\n ('shake', 891),\n ('passionate', 884),\n ('past', 882),\n ('success', 882),\n ('lack', 875),\n ('process', 864),\n ('play', 858),\n ('achieve', 844),\n ('true', 823),\n ('yes', 808),\n ('end', 808),\n ('have', 802),\n ('partner', 794),\n ('situation', 793),\n ('constantly', 793),\n ('option', 769),\n ('deep', 768),\n ('hear', 767),\n ('human', 766),\n ('support', 761),\n ('clear', 761),\n ('afraid', 755),\n ('unsure', 745),\n ('scary', 737),\n ('normal', 735),\n ('incorporate', 733),\n ('music', 730),\n ('recognize', 724),\n ('area', 720),\n ('emptiness', 697),\n ('rut', 693),\n ('identify', 684),\n ('recently', 683),\n ('long', 677),\n ('miss', 673),\n ('connect', 673),\n ('set', 671),\n ('happy', 664),\n ('current', 664),\n ('specifically', 649),\n ('connection', 649),\n ('able', 648),\n ('mind', 647),\n ('disconnected', 646),\n ('spend', 639),\n ('outside', 637),\n ('journey', 614),\n ('art', 610),\n ('challenging', 609),\n ('scared', 599),\n ('grand', 591),\n ('lost', 591),\n ('disconnect', 589),\n ('learn', 585),\n ('aspect', 583),\n ('therapy', 580),\n ('fail', 578),\n ('social', 573),\n ('prioritize', 573),\n ('issue', 563),\n ('turn', 557),\n ('definitely', 555),\n ('positive', 555),\n ('daily', 554),\n ('leave', 552),\n ('little', 551),\n ('seek', 546),\n ('worth', 546),\n ('doubt', 545),\n ('waste', 538),\n ('willing', 537),\n ('completely', 535),\n ('college', 529),\n ('one', 526),\n ('specific', 523),\n ('believe', 520),\n ('arise', 517),\n ('actually', 504),\n ('routine', 503),\n ('directionless', 500),\n ('emotion', 498),\n ('reality', 496),\n ('open', 493),\n ('thank', 493),\n ('break', 490),\n ('uncommon', 487),\n ('begin', 484),\n ('interested', 481),\n ('well', 480),\n ('graduate', 479),\n ('bit', 478),\n ('energy', 476),\n ('answer', 473),\n ('get', 473),\n ('perspective', 471),\n ('painting', 460),\n ('exist', 456),\n ('manage', 455),\n ('resonate', 455),\n ('handle', 454),\n ('fall', 448),\n ('touch', 446),\n ('starting', 443),\n ('plan', 441),\n ('external', 440),\n ('excite', 438),\n ('relate', 431),\n ('transition', 429),\n ('belong', 427),\n ('scheme', 425),\n ('busy', 423),\n ('possible', 423),\n ('person', 418),\n ('deal', 417),\n ('successful', 414),\n ('wonder', 413),\n ('share', 411),\n ('will', 409),\n ('close', 409),\n ('exercise', 404),\n ('worried', 404),\n ('trigger', 403),\n ('choose', 403),\n ('risk', 400),\n ('stop', 399),\n ('cope', 397),\n ('catch', 397),\n ('interesting', 395),\n ('discover', 395),\n ('worry', 390),\n ('necessarily', 387),\n ('sleep', 385),\n ('fit', 382),\n ('pay', 381),\n ('certain', 381),\n ('honesty', 377),\n ('move', 372),\n ('ask', 370),\n ('present', 365),\n ('individual', 363),\n ('navigate', 362),\n ('progress', 361),\n ('accomplish', 361),\n ('mistake', 359),\n ('mortality', 358),\n ('instead', 357),\n ('exactly', 355),\n ('deeply', 352),\n ('significant', 352),\n ('die', 351),\n ('today', 351),\n ('desire', 350),\n ('search', 347),\n ('guide', 347),\n ('reach', 346),\n ('society', 344),\n ('particularly', 343),\n ('incredibly', 341),\n ('unique', 338),\n ('define', 338),\n ('fact', 338),\n ('build', 336),\n ('limit', 335),\n ('bad', 335),\n ('happiness', 334),\n ('parent', 331),\n ('effort', 329),\n ('writing', 325),\n ('engage', 322),\n ('motivation', 322),\n ('kindness', 320),\n ('honest', 320),\n ('grow', 317),\n ('obligation', 314),\n ('possibility', 313),\n ('guitar', 311),\n ('forward', 310),\n ('compare', 309),\n ('ability', 307),\n ('creativity', 307),\n ('meet', 307),\n ('trouble', 306),\n ('hopeless', 305),\n ('creative', 304),\n ('easy', 302),\n ('power', 300),\n ('home', 300),\n ('exploration', 298),\n ('travel', 298),\n ('approach', 297),\n ('field', 296),\n ('away', 292),\n ('task', 290),\n ('embrace', 290),\n ('authentic', 290),\n ('stressful', 286),\n ('unknown', 284),\n ('learning', 283),\n ('head', 279),\n ('write', 277),\n ('negative', 276),\n ('ultimately', 276),\n ('problem', 275),\n ('practice', 273),\n ('mindfulness', 273),\n ('satisfaction', 273),\n ('disconnection', 273),\n ('confused', 272),\n ('major', 271),\n ('class', 271),\n ('source', 270),\n ('inherent', 269),\n ('money', 269),\n ('run', 268),\n ('notice', 266),\n ('community', 266),\n ('term', 265),\n ('month', 265),\n ('wake', 262),\n ('nature', 262),\n ('restless', 262),\n ('frustrating', 260),\n ('regret', 258),\n ('acknowledge', 258),\n ('shelter', 256),\n ('spark', 256),\n ('drive', 255),\n ('perfect', 254),\n ('judge', 251),\n ('event', 251),\n ('alive', 251),\n ('courage', 250),\n ('avoid', 248),\n ('stay', 246),\n ('identity', 246),\n ('affect', 244),\n ('bed', 242),\n ('provide', 242),\n ('local', 242),\n ('compassion', 241),\n ('symptom', 240),\n ('circumstance', 240),\n ('accomplishment', 238),\n ('strength', 237),\n ('valid', 236),\n ('bill', 234),\n ('loss', 234),\n ('societal', 233),\n ('gain', 231),\n ('focused', 230),\n ('curious', 230),\n ('grapple', 229),\n ('volunteering', 227),\n ('valuable', 225),\n ('practical', 223),\n ('fulfilling', 223),\n ('animal', 221),\n ('confuse', 221),\n ('stand', 218),\n ('say', 217),\n ('fulfilled', 217),\n ('late', 217),\n ('group', 214),\n ('depression', 213),\n ('pick', 212),\n ('stable', 211),\n ('keep', 210),\n ('apart', 210),\n ('technique', 209),\n ('empower', 209),\n ('bother', 209),\n ('30', 209),\n ('express', 208),\n ('push', 208),\n ('condition', 205),\n ('inadequacy', 204),\n ('burden', 204),\n ('aimless', 204),\n ('financial', 204),\n ('shift', 202),\n ('skill', 201),\n ('aside', 200),\n ('remind', 199),\n ('school', 197),\n ('factor', 196),\n ('motivate', 196),\n ('communicate', 195),\n ('develop', 194),\n ('dream', 193),\n ('theme', 193),\n ('finger', 192),\n ('examine', 190),\n ('appreciate', 190),\n ('balance', 190),\n ('health', 190),\n ('unfulfilled', 190),\n ('medium', 189),\n ('particular', 189),\n ('comfortable', 189),\n ('see', 188),\n ('legacy', 187),\n ('insignificant', 187),\n ('priority', 186),\n ('ago', 185),\n ('pace', 183),\n ('clarity', 182),\n ('week', 181),\n ('stagnant', 181),\n ('hmm', 180),\n ('comfort', 178),\n ('sorry', 178),\n ('example', 178),\n ('sign', 177),\n ('certainly', 177),\n ('isolated', 177),\n ('hurt', 176),\n ('unfulfilling', 176),\n ('distress', 176),\n ('offer', 176),\n ('pattern', 174),\n ('motivated', 174),\n ('expect', 174),\n ('dread', 173),\n ('use', 173),\n ('everyday', 173),\n ('put', 172),\n ('attention', 170),\n ('heavy', 170),\n ('accept', 169),\n ('strong', 168),\n ('additionally', 167),\n ('restlessness', 167),\n ('forget', 166),\n ('disappoint', 166),\n ('brainstorm', 165),\n ('purposelessness', 164),\n ('weakness', 164),\n ('float', 164),\n ('chore', 164),\n ('strategy', 164),\n ('inevitability', 162),\n ('realize', 161),\n ('relaxation', 159),\n ('weigh', 159),\n ('unease', 158),\n ('sit', 158),\n ('high', 158),\n ('reflection', 157),\n ('zone', 157),\n ('achievement', 157),\n ('trap', 157),\n ('project', 157),\n ('confusion', 157),\n ('mental', 156),\n ('plate', 156),\n ('join', 155),\n ('alignment', 154),\n ('topic', 154),\n ('conversation', 154),\n ('truth', 154),\n ('excited', 154),\n ('course', 153),\n ('uncover', 153),\n ('reframe', 152),\n ('walk', 152),\n ('fully', 152),\n ('discuss', 151),\n ('aspiration', 151),\n ('pretty', 151),\n ('uncomfortable', 150),\n ('picture', 150),\n ('distract', 149),\n ('involve', 149),\n ('boundary', 148),\n ('necessary', 148),\n ('response', 147),\n ('tie', 146),\n ('read', 146),\n ('unmotivated', 146),\n ('draw', 146),\n ('agency', 145),\n ('outcome', 145),\n ('supportive', 144),\n ('cultivate', 144),\n ('address', 143),\n ('imagine', 143),\n ('act', 143),\n ('discomfort', 143),\n ('core', 142),\n ('vastness', 142),\n ('invest', 141),\n ('mention', 141),\n ('reason', 141),\n ('drain', 140),\n ('manageable', 139),\n ('system', 139),\n ('age', 139),\n ('hike', 139),\n ('measure', 138),\n ('race', 138),\n ('root', 137),\n ('inside', 137),\n ('realization', 136),\n ('respond', 136),\n ('city', 136),\n ('void', 136),\n ('stability', 136),\n ('free', 135),\n ('purposeful', 135),\n ('inner', 134),\n ('succeed', 134),\n ('integrity', 133),\n ('surround', 133),\n ('paint', 133),\n ('demand', 133),\n ('large', 133),\n ('repeat', 132),\n ('pile', 132),\n ('guilt', 132),\n ('understanding', 132),\n ('prevent', 131),\n ('order', 131),\n ('hiking', 130),\n ('chance', 130),\n ('currently', 130),\n ('behavior', 130),\n ('friendship', 129),\n ('fulfill', 128),\n ('constant', 128),\n ('role', 128),\n ('cycle', 127),\n ('watch', 127),\n ('tv', 127),\n ('connected', 127),\n ('guilty', 127),\n ('research', 126),\n ('lonely', 126),\n ('describe', 126),\n ('responsible', 125),\n ('forgiveness', 125),\n ('wonderful', 125),\n ('discovery', 125),\n ('culture', 124),\n ('breath', 124),\n ('inspire', 124),\n ('dissatisfaction', 124),\n ('follow', 123),\n ('temporary', 123),\n ('unmotivate', 123),\n ('angry', 123),\n ('concrete', 123),\n ('significance', 122),\n ('listen', 122),\n ('proud', 122),\n ('destination', 121),\n ('voice', 121),\n ('breathing', 120),\n ('allow', 120),\n ('workload', 120),\n ('reconnect', 120),\n ('young', 119),\n ('plus', 119),\n ('pleasure', 118),\n ('scare', 117),\n ('hope', 117),\n ('maintain', 117),\n ('old', 116),\n ('overcome', 116),\n ('eventually', 116),\n ('dilemma', 116),\n ('powerful', 116),\n ('crisis', 116),\n ('strain', 115),\n ('lifestyle', 114),\n ('differently', 114),\n ('period', 114),\n ('dead', 114),\n ('depressed', 113),\n ('organization', 113),\n ('subjective', 112),\n ('loving', 112),\n ('escape', 111),\n ('context', 111),\n ('definition', 111),\n ('internalize', 111),\n ('attack', 110),\n ('internal', 110),\n ('encourage', 110),\n ('serve', 109),\n ('enjoyment', 109),\n ('fight', 109),\n ('trust', 109),\n ('universe', 109),\n ('hour', 108),\n ('night', 108),\n ('level', 107),\n ('relevant', 107),\n ('terrify', 107),\n ('study', 107),\n ('pinpoint', 106),\n ('ignore', 106),\n ('space', 105),\n ('simply', 105),\n ('meditation', 104),\n ('underlying', 104),\n ('environment', 103),\n ('unhappy', 103),\n ('insight', 103),\n ('strive', 103),\n ('validation', 102),\n ('vulnerable', 102),\n ('dear', 101),\n ('similar', 100),\n ('seriously', 100),\n ('sort', 99),\n ('universal', 99),\n ('message', 99),\n ('capable', 98),\n ('carry', 98),\n ('ready', 98),\n ('painful', 98),\n ('emotional', 98),\n ('pain', 98),\n ('overall', 98),\n ('dull', 97),\n ('shape', 97),\n ('simple', 97),\n ('suggest', 97),\n ('potentially', 97),\n ('underlie', 96),\n ('hand', 96),\n ('autopilot', 96),\n ('tension', 96),\n ('overwhelm', 95),\n ('influence', 94),\n ('evolve', 94),\n ('judgment', 93),\n ('stressor', 93),\n ('fix', 93),\n ('speak', 93),\n ('entirely', 93),\n ('development', 92),\n ('type', 92),\n ('ownership', 92),\n ('limited', 92),\n ('panic', 91),\n ('pass', 91),\n ('available', 91),\n ('satisfy', 91),\n ('improve', 91),\n ('purposeless', 90),\n ('sight', 90),\n ('feels', 89),\n ('stuff', 89),\n ('extremely', 89),\n ('excitement', 89),\n ('regardless', 89),\n ('stem', 88),\n ('continue', 88),\n ('guidance', 88),\n ('daunt', 88),\n ('confidence', 88),\n ('bland', 87),\n ('short', 87),\n ('homeless', 87),\n ('monotonous', 87),\n ('barrier', 86),\n ('material', 86),\n ('safe', 85),\n ('deadline', 84),\n ('treat', 84),\n ('ongoing', 84),\n ('hopelessness', 84),\n ('loneliness', 84),\n ('base', 83),\n ('forgive', 83),\n ('exciting', 83),\n ('apply', 83),\n ('pursuit', 83),\n ('photography', 82),\n ('intense', 82),\n ('disappointment', 82),\n ('rewarding', 82),\n ('add', 82),\n ('evidence', 81),\n ('view', 81),\n ('apathy', 81),\n ('active', 81),\n ('boss', 81),\n ('unpredictable', 81),\n ('general', 80),\n ('meantime', 80),\n ('nice', 80),\n ('fleeting', 80),\n ('sport', 80),\n ('numb', 79),\n ('living', 79),\n ('ambiguity', 79),\n ('absolutely', 78),\n ('physical', 78),\n ('experiment', 78),\n ('curiosity', 78),\n ('link', 78),\n ('chase', 78),\n ('journale', 77),\n ('intellectually', 77),\n ('intentional', 76),\n ('usually', 76),\n ('assume', 76),\n ('obstacle', 76),\n ('charity', 76),\n ('list', 75),\n ('tackle', 75),\n ('recent', 75),\n ('expression', 75),\n ('professional', 75),\n ('ripple', 75),\n ('effect', 75),\n ('recognition', 74),\n ('permission', 73),\n ('talent', 73),\n ('inevitable', 73),\n ('vulnerability', 73),\n ('jealousy', 73),\n ('benefit', 73),\n ('weight', 73),\n ('consequence', 73),\n ('outsider', 73),\n ('unsettling', 72),\n ('respect', 72),\n ('load', 72),\n ('admit', 72),\n ('viable', 72),\n ('mood', 72),\n ('huge', 72),\n ('avenue', 71),\n ('calling', 71),\n ('delegate', 71),\n ('oneself', 71),\n ('grasp', 71),\n ('aimlessly', 70),\n ('despite', 70),\n ('pull', 70),\n ('breakup', 70),\n ('missing', 70),\n ('react', 70),\n ('doctor', 70),\n ('coworker', 69),\n ('childhood', 69),\n ('transformation', 69),\n ('contemplate', 69),\n ('resource', 69),\n ('standard', 69),\n ('dog', 68),\n ('delve', 68),\n ('disappointed', 68),\n ('unrealistic', 68),\n ('independent', 68),\n ('psychology', 68),\n ('actively', 68),\n ('bombard', 67),\n ('finance', 67),\n ('reminder', 67),\n ('body', 67),\n ('state', 67),\n ('eat', 67),\n ('rinse', 66),\n ('sensation', 66),\n ('flaw', 66),\n ('ex', 66),\n ('calm', 66),\n ('rejection', 66),\n ('nightmare', 66),\n ('compassionate', 66),\n ('rest', 66),\n ('child', 66),\n ('basketball', 66),\n ('heart', 65),\n ('form', 65),\n ('later', 65),\n ('demanding', 65),\n ('lesson', 65),\n ('page', 65),\n ('liberate', 65),\n ('impermanent', 65),\n ('emotionally', 65),\n ('conflict', 64),\n ('empathy', 64),\n ('traditional', 64),\n ('essential', 64),\n ('reaction', 64),\n ('cut', 64),\n ('permanent', 64),\n ('unchanging', 64),\n ('uninteresting', 64),\n ('productive', 64),\n ('far', 64),\n ('scroll', 63),\n ('counselor', 63),\n ('excellent', 63),\n ('result', 63),\n ('communication', 63),\n ('settle', 63),\n ('realistic', 63),\n ('satisfied', 63),\n ('include', 63),\n ('acceptance', 63),\n ('fill', 63),\n ('quality', 62),\n ('fundamental', 62),\n ('member', 62),\n ('frustrated', 62),\n ('decide', 62),\n ('sadness', 61),\n ('ideal', 61),\n ('esteem', 61),\n ('productivity', 61),\n ('tap', 60),\n ('authenticity', 60),\n ('highly', 60),\n ('morning', 60),\n ('endless', 59),\n ('alleviate', 59),\n ('wander', 59),\n ('size', 59),\n ('phase', 59),\n ('energize', 59),\n ('prove', 58),\n ('timeline', 58),\n ('authentically', 58),\n ('integrate', 58),\n ('relax', 58),\n ('aware', 58),\n ('aimlessness', 58),\n ('dig', 57),\n ('anger', 57),\n ('spread', 57),\n ('hi', 57),\n ('typically', 57),\n ('hate', 57),\n ('despair', 56),\n ('exacerbate', 56),\n ('manifest', 56),\n ('got', 56),\n ('inherently', 56),\n ('limitation', 56),\n ('medication', 56),\n ('arbitrary', 56),\n ('degree', 56),\n ('replace', 55),\n ('mindset', 55),\n ('neglect', 55),\n ('dish', 55),\n ('clothe', 55),\n ('approval', 55),\n ('enjoyable', 55),\n ('commit', 55),\n ('shoot', 55),\n ('part', 55),\n ('discouraged', 55),\n ('talente', 54),\n ('weekend', 54),\n ('honor', 54),\n ('schedule', 54),\n ('isolate', 53),\n ('shoulder', 53),\n ('autonomy', 53),\n ('tired', 53),\n ('depth', 53),\n ('disconcert', 52),\n ('lurk', 52),\n ('inspiration', 52),\n ('require', 52),\n ('solution', 52),\n ('solely', 52),\n ('recharge', 51),\n ('awareness', 51),\n ('edge', 51),\n ('session', 51),\n ('beautiful', 51),\n ('existentialism', 51),\n ('milestone', 51),\n ('transitional', 51),\n ('tool', 51),\n ('deserve', 50),\n ('unexpected', 50),\n ('experimentation', 50),\n ('being', 50),\n ('comparison', 50),\n ('earth', 50),\n ('reconnecte', 49),\n ('rock', 49),\n ('hesitant', 49),\n ('single', 49),\n ('marry', 49),\n ('household', 49),\n ('thin', 49),\n ('incompetent', 49),\n ('revisit', 49),\n ('fast', 49),\n ('ah', 48),\n ('lay', 48),\n ('line', 48),\n ('frustration', 48),\n ('trial', 48),\n ('error', 48),\n ('seemingly', 48),\n ('call', 47),\n ('rely', 47),\n ('combination', 47),\n ('detail', 47),\n ('discourage', 47),\n ('distressing', 47),\n ('clue', 47),\n ('online', 46),\n ('recall', 46),\n ('advance', 46),\n ('norm', 46),\n ('outlet', 46),\n ('procrastinate', 46),\n ('air', 46),\n ('key', 46),\n ('input', 46),\n ('setback', 46),\n ('ethical', 46),\n ('receive', 46),\n ('rediscover', 46),\n ('mechanism', 45),\n ('drawing', 45),\n ('finite', 45),\n ('motivator', 45),\n ('translate', 45),\n ('second', 45),\n ('chaotic', 45),\n ('grind', 45),\n ('spin', 45),\n ('conform', 45),\n ('openness', 45),\n ('mundane', 45),\n ('smart', 44),\n ('tempting', 44),\n ...]"
     },
     "execution_count": 184,
     "metadata": {},
     "output_type": "execute_result"
    }
   ],
   "source": [
    "itokens_dict.most_common()"
   ],
   "metadata": {
    "collapsed": false
   }
  },
  {
   "cell_type": "markdown",
   "source": [
    "тут намного больше слов, просто потомиу что в запросе у нас часть истории переписки сохраняется, а слова patient, therapist не учитываем, так как это специальные слова разделители.\n",
    "Зато видно что чаще всего (вероятно вообще в каждом предложении) человек пишет что он чувствует (feel-42к) или (реже) думает (Think-10180)\n",
    "\n",
    "посмотрим на другие слова встречащиеся чаще 5к раз\n",
    "*start,common, make, sure, let, thing, way, meaning, find, lately, go, want, time, experience, lose, feeling, important, value, sense, sound, purpose, explore, know, life, like*\n",
    "\n",
    "\n",
    "1) много совпадений с target => Бот склонен повторять то что в input'e(??). В целом это даже оправдано правилами эмпатичного общения психолог. Уточнения из серии \"то есть вы хотите сказать что чувствуете ххх\"?\n",
    "2) думаю тут люди рассказывают о том, что чувствуют (feel) что теряют (lose) смысл жизни (purpose,life) в последнее время (lately)\n",
    "\n",
    "окей. Тут стоит сказать что когда я генерировала данные, я задала чатгпт system content (там где задается каким именно асисстентом является), что это экзистенциальный психолог...  случился сильный биас в эту сторону. Эх. В перспективе - на каждое направление нагенерить свой датасет."
   ],
   "metadata": {
    "collapsed": false
   }
  }
 ],
 "metadata": {
  "kernelspec": {
   "display_name": "Python 3",
   "language": "python",
   "name": "python3"
  },
  "language_info": {
   "codemirror_mode": {
    "name": "ipython",
    "version": 2
   },
   "file_extension": ".py",
   "mimetype": "text/x-python",
   "name": "python",
   "nbconvert_exporter": "python",
   "pygments_lexer": "ipython2",
   "version": "2.7.6"
  }
 },
 "nbformat": 4,
 "nbformat_minor": 0
}
